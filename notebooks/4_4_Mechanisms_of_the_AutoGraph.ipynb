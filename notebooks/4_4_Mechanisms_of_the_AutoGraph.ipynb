{
  "nbformat": 4,
  "nbformat_minor": 0,
  "metadata": {
    "colab": {
      "name": "4-4 Mechanisms of the AutoGraph.ipynb",
      "provenance": [],
      "collapsed_sections": [],
      "authorship_tag": "ABX9TyPGc0ofVhonjQZpw3oxIsFq",
      "include_colab_link": true
    },
    "kernelspec": {
      "name": "python3",
      "display_name": "Python 3"
    }
  },
  "cells": [
    {
      "cell_type": "markdown",
      "metadata": {
        "id": "view-in-github",
        "colab_type": "text"
      },
      "source": [
        "<a href=\"https://colab.research.google.com/github/LxYuan0420/eat_tensorflow2_in_30_days/blob/master/notebooks/4_4_Mechanisms_of_the_AutoGraph.ipynb\" target=\"_parent\"><img src=\"https://colab.research.google.com/assets/colab-badge.svg\" alt=\"Open In Colab\"/></a>"
      ]
    },
    {
      "cell_type": "markdown",
      "metadata": {
        "id": "-qQq8pEn1Rzk"
      },
      "source": [
        "**4-4 Mechanisms of the AutoGraph**\r\n",
        "\r\n",
        "There are three ways of constructing graph: static, dynamic and Autograph.\r\n",
        "\r\n",
        "TensorFlow 2.X uses dynamic graph and Autograph.\r\n",
        "\r\n",
        "Dynamic graph is easier for debugging with higher encoding efficiency, but with lower efficiency in execution.\r\n",
        "\r\n",
        "Static graph has high efficiency in execution, but more difficult for debugging.\r\n",
        "\r\n",
        "Autograph mechanism transforms dynamic graph into static graph, making allowance for both executing and encoding efficiencies.\r\n",
        "\r\n",
        "There are certain rules for the code that is able to converted by Autograph, or it could result in failure or unexpected results.\r\n",
        "\r\n",
        "We are going to introduce the coding rules of Autograph and its mechanism of converting into static graph, together with introduction about how to construct Autograph using tf.Module.\r\n",
        "\r\n",
        "The coding rules of Autograph was introduced in the last section. Here we introduce the mechanisms of Autograph.\r\n",
        "\r\n",
        "**1. Mechanisms of Autograph**\r\n",
        "\r\n",
        "What happens when we define a function using decorator @tf.function ?\r\n",
        "\r\n",
        "Consider the following code."
      ]
    },
    {
      "cell_type": "code",
      "metadata": {
        "id": "MW1pTdjB1fiw"
      },
      "source": [
        "import tensorflow as tf\r\n",
        "import numpy as np"
      ],
      "execution_count": 1,
      "outputs": []
    },
    {
      "cell_type": "code",
      "metadata": {
        "id": "l_4yxSqj1jN-"
      },
      "source": [
        "@tf.function(autograph=True)\r\n",
        "def myadd(a,b):\r\n",
        "    for i in tf.range(3):\r\n",
        "        tf.print(i)\r\n",
        "    c = a+b\r\n",
        "    print(\"tracing\")\r\n",
        "    return c"
      ],
      "execution_count": 3,
      "outputs": []
    },
    {
      "cell_type": "markdown",
      "metadata": {
        "id": "EjSgNSkQ1mOV"
      },
      "source": [
        "Nothing happens except a function signature is recorded in the stack of Python.\r\n",
        "\r\n",
        "What happens when this function decorated by @tf.function is called?\r\n",
        "\r\n",
        "Consider the following code."
      ]
    },
    {
      "cell_type": "code",
      "metadata": {
        "colab": {
          "base_uri": "https://localhost:8080/"
        },
        "id": "nwrP4fuQ1vvz",
        "outputId": "4fe9fd17-f854-4fde-ac60-21eb777eae80"
      },
      "source": [
        "myadd(tf.constant(\"hello\"), tf.constant(\"world\"))"
      ],
      "execution_count": 4,
      "outputs": [
        {
          "output_type": "stream",
          "text": [
            "tracing\n",
            "0\n",
            "1\n",
            "2\n"
          ],
          "name": "stdout"
        },
        {
          "output_type": "execute_result",
          "data": {
            "text/plain": [
              "<tf.Tensor: shape=(), dtype=string, numpy=b'helloworld'>"
            ]
          },
          "metadata": {
            "tags": []
          },
          "execution_count": 4
        }
      ]
    },
    {
      "cell_type": "markdown",
      "metadata": {
        "id": "ic3YX_gc3GY2"
      },
      "source": [
        "There are two incidents:\r\n",
        "\r\n",
        "First, the graph is created.\r\n",
        "\r\n",
        "A static graph is created. The Python code inside this function is executed, the tensor type of each variable is determined, and the operator is added to the graph according to the order of execution. During this period, if the argument autograph=True (default) is setted, convertting of the controlling flow in Python to the one inside TensorFlow graph will happen. The majority of the work are: replacing if to tf.cond operator; replacing while and for looping to tf.while_loop; when necessary, add tf.control_dependencies to specify the dependencies of executing orders\r\n",
        "\r\n",
        "The second incident is the execution of the graph.\r\n",
        "\r\n",
        "So the result for the first step comes first: A string \"tracing\" printed by the standard I/O stream of Python.\r\n",
        "\r\n",
        "And next is the result of the second step: A string \"1, 2, 3\" printed by the standard I/O stream of TensorFlow.\r\n",
        "\r\n",
        "What is going to happen when we call this function again with the same types of the input arguments?\r\n",
        "\r\n",
        "Consider the following code."
      ]
    },
    {
      "cell_type": "code",
      "metadata": {
        "colab": {
          "base_uri": "https://localhost:8080/"
        },
        "id": "nrdeOwnw1zG5",
        "outputId": "e9c09e59-cfb8-44d4-a374-36a486f22ee6"
      },
      "source": [
        "myadd(tf.constant(\"hello\"), tf.constant(\"morning\"))"
      ],
      "execution_count": 5,
      "outputs": [
        {
          "output_type": "stream",
          "text": [
            "0\n",
            "1\n",
            "2\n"
          ],
          "name": "stdout"
        },
        {
          "output_type": "execute_result",
          "data": {
            "text/plain": [
              "<tf.Tensor: shape=(), dtype=string, numpy=b'hellomorning'>"
            ]
          },
          "metadata": {
            "tags": []
          },
          "execution_count": 5
        }
      ]
    },
    {
      "cell_type": "markdown",
      "metadata": {
        "id": "_Y22s7bb3VrL"
      },
      "source": [
        "Since the data type of the argument has been changed, the previously created graph cannot be used again.\r\n",
        "\r\n",
        "Two more tasks to be done: create new graph and execute it.\r\n",
        "\r\n",
        "The result of the first step will be observed again, i.e. a string \"tracing\" printed by the standard I/O stream of Python.\r\n",
        "\r\n",
        "And next is the result of the second step: A string \"1, 2, 3\" printed by the standard I/O stream of TensorFlow.\r\n",
        "\r\n",
        "Note: if the data type of the argument is not Tensor in the original definition of this function, then the graph will be re-created each time after calling this function.\r\n",
        "\r\n",
        "The demonstrated code below re-creates graph every time, so it is recommended to use Tensor type as the arguments when calling the function decorated by @tf.function."
      ]
    },
    {
      "cell_type": "code",
      "metadata": {
        "colab": {
          "base_uri": "https://localhost:8080/"
        },
        "id": "8wKfNpXL23Qk",
        "outputId": "2c03936d-e9ff-4ae9-e2c9-c13f06e5769d"
      },
      "source": [
        "myadd(tf.constant(1), tf.constant(2))"
      ],
      "execution_count": 6,
      "outputs": [
        {
          "output_type": "stream",
          "text": [
            "tracing\n",
            "0\n",
            "1\n",
            "2\n"
          ],
          "name": "stdout"
        },
        {
          "output_type": "execute_result",
          "data": {
            "text/plain": [
              "<tf.Tensor: shape=(), dtype=int32, numpy=3>"
            ]
          },
          "metadata": {
            "tags": []
          },
          "execution_count": 6
        }
      ]
    },
    {
      "cell_type": "markdown",
      "metadata": {
        "id": "FJjRbNIZ2_iL"
      },
      "source": [
        "**2. Scrutinize the Coding Rules of Autograph Again**\r\n",
        "\r\n",
        "We can have a better understanding to the three rules of coding of Autograph after knowing the mechanisms above.\r\n",
        "\r\n",
        "1, We should use the TensorFlow-defined functions to be decorated by @tf.function as much as possible, instead of those Python functions. For instance, tf.print should be used instead of print.\r\n",
        "\r\n",
        "Explanations: Python functions are only used during the stage of creating static graph. The Python functions are not able to be embedded into the static graph, so these Python functions are not calculated during the calling after the graph creation; in contrast, TensorFlow functions are able to be embedded into the graph. Using Python functions is causing unmatched outputs between the \"eager execution\" before the decoration by @tf.function and the \"execution of static graph\" after the decoration by @tf.function.\r\n",
        "\r\n",
        "2，Avoid defining tf.Variable inside the decorator @tf.function.\r\n",
        "\r\n",
        "Explanations: The defined tf.Variable will be re-created every time when calling the function during the \"eager execution\" stage. However, this re-creation of tf.Variable only takes place at the first step, i.e. tracing Python code to create the graph, which is introducing unmatched outputs between the \"eager execution\" before the decoration by @tf.function and the \"execution of static graph\" after the decoration by @tf.function. In fact, TensorFlow throws error in most of such cases.\r\n",
        "\r\n",
        "3，Functions that are decorated by @tf.function cannot modify the variables outside the function with the data types such as Python list, dictionary, etc.\r\n",
        "\r\n",
        "Explanations: Static graph is executed in the TensorFlow kernels, which are compiled from C++ code, thus the list and dictionary in Python are not able to be embedded into the graph. These data types can only be read during the stage of graph creating and cannot be modified during the graph execution."
      ]
    },
    {
      "cell_type": "code",
      "metadata": {
        "id": "tHumtxAd46ET"
      },
      "source": [
        ""
      ],
      "execution_count": null,
      "outputs": []
    }
  ]
}