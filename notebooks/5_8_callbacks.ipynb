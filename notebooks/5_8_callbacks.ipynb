{
  "nbformat": 4,
  "nbformat_minor": 0,
  "metadata": {
    "colab": {
      "name": "5-8 callbacks.ipynb",
      "provenance": [],
      "collapsed_sections": [],
      "authorship_tag": "ABX9TyMVkR449T84OaOyg/rUDOco",
      "include_colab_link": true
    },
    "kernelspec": {
      "name": "python3",
      "display_name": "Python 3"
    }
  },
  "cells": [
    {
      "cell_type": "markdown",
      "metadata": {
        "id": "view-in-github",
        "colab_type": "text"
      },
      "source": [
        "<a href=\"https://colab.research.google.com/github/LxYuan0420/eat_tensorflow2_in_30_days/blob/master/notebooks/5_8_callbacks.ipynb\" target=\"_parent\"><img src=\"https://colab.research.google.com/assets/colab-badge.svg\" alt=\"Open In Colab\"/></a>"
      ]
    },
    {
      "cell_type": "markdown",
      "metadata": {
        "id": "3Xr0HhJwNtTh"
      },
      "source": [
        "**5-8 callbacks**\r\n",
        "\r\n",
        "The callbacks in tf.keras is a class, usually specified as a parameter when use model.fit. It provides the extra operations at the starting or the ending of training, each epoch or each batch. These operations include record some log information, change learning rate, early termination of the training, etc.\r\n",
        "\r\n",
        "Likewise, this callbacks parameter is also able to be specified for model.evaluate or model.predict, providing extra operations at the starting or the ending of the evaluation, prediction, or each batch. However this method is rarely used.\r\n",
        "\r\n",
        "For the most cases, the pre-defined callbacks in the sub-module keras.callbacks are sufficient. It is also possible to define child class inheriting keras.callbacks.Callbacks to customize callbacks if necessary.\r\n",
        "\r\n",
        "All the classes of callbacks are inheriting keras.callbacks.Callbacks, which contains two attributes: params and model.\r\n",
        "\r\n",
        "params is a dictionary, which records training parameters (e.g. verbosity, batch size, number of epochs, etc.). model is the reference to the current model.\r\n",
        "\r\n",
        "What's more, there is an extra argument logs in the certain methods of the callbacks classes, such as on_epoch_begin, on_batch_end. This parameter provides certain information of current epoch or batch and are able to save the computing results. These logs variables are able to transfer among the functions with the same name in these callbacks classes.\r\n",
        "\r\n",
        "**1. Pre-defined Callbacks**\r\n",
        "\r\n",
        "- BaseLogger: it calcuates the mean metrics among all batches for each epoch. For those metrics with middle status in staeful_metrics, it uses the final metrics without calculating mean value for all the batches, and the final mean metrics is added to the variable logs. This callback is automatically applied to every Keras model and is applied first.\r\n",
        "\r\n",
        "- History: a dictionary that records the metrics of each epoch calculated by BaseLogger and is returned by model.fit. This callback is automatically applied to every Keras model after BaseLogger.\r\n",
        "\r\n",
        "- EarlyStopping: this callback terminates the training if the monitoring metrics are not significantly increased after certain number of epoches.\r\n",
        "\r\n",
        "- TensorBoard: this callback saves the visualized log of the Tensorboard. It supports visualization of metrics, graphs and parameters in the model.\r\n",
        "\r\n",
        "- ModelCheckpoint: this callback saves model after each epoch.\r\n",
        "\r\n",
        "- ReduceLROnPlateau: this callback reduce the learning rate with certain rate if the monitoring metrics are not significantly increased after certain number of epoches.\r\n",
        "\r\n",
        "- TerminateOnNaN: terminate the training if loss is NaN.\r\n",
        "\r\n",
        "- LearningRateScheduler: it controls the learning rate before each epoch with given function between the learning rate lr and epoch.\r\n",
        "\r\n",
        "- CSVLogger: save logs of each epoch in CSV file.\r\n",
        "\r\n",
        "- ProgbarLogger: print the logs of each epoch into stardard I/O stream.\r\n",
        "\r\n",
        "**2. Customized Callbacks**\r\n",
        "\r\n",
        "It is possible to write a simple callback through callbacks.LambdaCallback, or write a complicated callback through inheriting base class callbacks.Callback.\r\n",
        "\r\n",
        "Don't hesitate to read the source code to know more details of the callbacks in tf.Keras."
      ]
    },
    {
      "cell_type": "code",
      "metadata": {
        "id": "dNHS1spxQNVl"
      },
      "source": [
        "import numpy as np\r\n",
        "import tensorflow as tf\r\n",
        "import os\r\n",
        "import tensorflow.keras.backend as K"
      ],
      "execution_count": 2,
      "outputs": []
    },
    {
      "cell_type": "code",
      "metadata": {
        "id": "zL2bL1NCRyVl"
      },
      "source": [
        "json_log = open('../data/keras_log.json', mode='wt', buffering=1)\r\n",
        "json_logging_callback = callbacks.LambdaCallback(\r\n",
        "    on_epoch_end=lambda epoch, logs: json_log.write(\r\n",
        "        json.dumps(dict(epoch = epoch,**logs)) + '\\n'),\r\n",
        "    on_train_end=lambda logs: json_log.close()\r\n",
        ")"
      ],
      "execution_count": null,
      "outputs": []
    },
    {
      "cell_type": "code",
      "metadata": {
        "id": "wLpsyrfkSRAu"
      },
      "source": [
        "class LearningRateScheduler(tf.keras.callbacks.Callback):\r\n",
        "    def __init__(self, schedule, verbose=0):\r\n",
        "        super(LearningRateScheduler, self).__init__()\r\n",
        "        self.schedule = schedule\r\n",
        "        self.verbose = verbose\r\n",
        "\r\n",
        "    def on_epoch_begin(self, epoch, logs=None):\r\n",
        "        if not hasattr(self.model.optimizer, 'lr'):\r\n",
        "            raise ValueError(\"Optimizer must have a 'lr' attribute.\")\r\n",
        "        \r\n",
        "        try:\r\n",
        "            lr = float(K.get_value(self.model.optimizer.lr))\r\n",
        "            lr = self.schedule(epoch, lr)\r\n",
        "        except TypeError:\r\n",
        "            lr = self.schedule(epoch)\r\n",
        "        if not isinstance(lr, (tf.Tensor, float, np.float32, np.float64)):\r\n",
        "            raise valueError(\"The otput of the 'schedule' function should be float\")\r\n",
        "        if isinstance(lr, ops.Tensor) and not lr.dtype.is_floating:\r\n",
        "            raise ValueError(\"The dtype of Tensor should be float\")\r\n",
        "        K.set_value(self.model.optimizer.lr, K.get_value(lr))\r\n",
        "        if self.verbose > 0:\r\n",
        "            print('\\nEpoch %05d: LearningRateScheduler reducing learning '\r\n",
        "                 'rate to %s.' % (epoch + 1, lr))\r\n",
        "\r\n",
        "    def on_epoch_end(self, epoch, logs=None):\r\n",
        "        logs = logs or {}\r\n",
        "        logs['lr'] = K.get_value(self.model.optimizer.lr)"
      ],
      "execution_count": 3,
      "outputs": []
    }
  ]
}