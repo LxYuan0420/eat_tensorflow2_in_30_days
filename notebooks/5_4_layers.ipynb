{
  "nbformat": 4,
  "nbformat_minor": 0,
  "metadata": {
    "colab": {
      "name": "5-4 layers.ipynb",
      "provenance": [],
      "collapsed_sections": [],
      "authorship_tag": "ABX9TyNIalSbcw1Sg5OFR8Gt2Joc",
      "include_colab_link": true
    },
    "kernelspec": {
      "name": "python3",
      "display_name": "Python 3"
    }
  },
  "cells": [
    {
      "cell_type": "markdown",
      "metadata": {
        "id": "view-in-github",
        "colab_type": "text"
      },
      "source": [
        "<a href=\"https://colab.research.google.com/github/LxYuan0420/eat_tensorflow2_in_30_days/blob/master/notebooks/5_4_layers.ipynb\" target=\"_parent\"><img src=\"https://colab.research.google.com/assets/colab-badge.svg\" alt=\"Open In Colab\"/></a>"
      ]
    },
    {
      "cell_type": "markdown",
      "metadata": {
        "id": "WviwC7Bd0oO3"
      },
      "source": [
        "**5-4 layers**\r\n",
        "The deep learning model usually consists of various layers.\r\n",
        "\r\n",
        "tf.keras.layers contains a large amount of models with various functions, such as:\r\n",
        "\r\n",
        "`layers.Dense`, `layers.Flatten`, `layers.Input`, `layers.DenseFeature`,\r\n",
        "`layers.Dropout`\r\n",
        "\r\n",
        "`layers.Conv2D`, `layers.MaxPooling2D`, `layers.Conv1D`\r\n",
        "\r\n",
        "`layers.Embedding`, `layers.GRU`, `layers.LSTM`, `layers.Bidirectional`, etc.\r\n",
        "\r\n",
        "\r\n",
        "In case these pre-defined layers are insufficient for modeling, the users are able to write anonymous layer tf.keras.Lambda or write customized layer through inheriting tf.keras.layers.Layer.\r\n",
        "\r\n",
        "Note that `tf.keras.Lambda` is only for the layers without any trainable parameter.\r\n",
        "\r\n",
        "**1. Pre-defined Layer**\r\n",
        "Here are the introductions for the most popular layers.\r\n",
        "\r\n",
        "**Fundamental layers**\r\n",
        "\r\n",
        "- Dense: Densely connected layer. # of parameters = # of features of the input layer × # of weight + # of bias.\r\n",
        "\r\n",
        "- Activation: Activation function layer. Usually placed after the Dense layer for specify the activation function in the Dense layer.\r\n",
        "\r\n",
        "- Dropout: Dropout layer. Setting the inputs as zero randomly during the training stage, which is a method of regularization.\r\n",
        "\r\n",
        "- BatchNormalization:Layer for batch normalization. It scale and translate the batches into stable mean and standad deviation through linear transformation. This lead to the model adaptive to the various distribution of the input, which is mild regularization that accelerates training. This layer is usually applied before the activation function.\r\n",
        "\r\n",
        "- SpatialDropout2D:Spatial dropout layer. Setting the whole feature map into zero with certain possibilities during training, which is a regularization to avoid high correlation between feature maps.\r\n",
        "\r\n",
        "- Input:Input layer. Usually it is the first layer when modelling through functional API.\r\n",
        "\r\n",
        "- DenseFeature:Layer that provides connection to the feature columns, which is used to accept a list of feature columns and generate a densely connected layer.\r\n",
        "\r\n",
        "- Flatten:Flatten layer, used for flattening multi-dimensional tensor into one-dimension.\r\n",
        "\r\n",
        "- Reshape:Reshape layer, reform the shape of the input tensor.\r\n",
        "\r\n",
        "- Concatenate:Concatenating layer to link multiple tensors along the specific dimension.\r\n",
        "\r\n",
        "- Add: Adding layer.\r\n",
        "\r\n",
        "- Subtract: Subtracting layer.\r\n",
        "\r\n",
        "- Maximum: Layer for maximum value.\r\n",
        "\r\n",
        "- Minimum: Layer for minimum value.\r\n",
        "\r\n",
        "**Layers for the convoelutional network.**\r\n",
        "\r\n",
        "- Conv1D: Layer of 1D convolution, ususlly for text. # of parameters = # of input channels × # of kernel size (e.g. 3) × # of kernels.\r\n",
        "\r\n",
        "- Conv2D: Layer of 2D convolution, ususlly for image. # of parameters = # of input channels × # of kernel size (e.g. 3×3) × # of kernels.\r\n",
        "\r\n",
        "- Conv3D: Layer of 3D convolution, ususlly for video. # of parameters = # of input channels × # of kernel size (e.g. 3×3×3) × # of kernels.\r\n",
        "\r\n",
        "- SeparableConv2D: Depthwise 2D separable covolution. Unlike the traditional convolution, separable convolutions consist in first performing a depthwise spatial convolution (which acts on each input channel separately) followed by a pointwise convolution which mixes together the resulting output channels. # of parameters = # of input channels × size of convolutional kernel + # of input channels × 1 × 1 × # of output channels. Usually, depthwise separable convolution has a much smaller number of parameters with a better performance.\r\n",
        "\r\n",
        "- DepthwiseConv2D: Depthwise 2D convolution. Depthwise convolutions consists in performing just the first step in a depthwise separable convolution (which acts on each input channel separately). Usually the # of input and output channels are the same, but can be altered through the depth_multiplier argument to control how many output channels are generated per input channel in the depthwise step. # of output channles = # of input channles × depth_multiplier. # of parameters = # of input channels × size of kernel × depth_multiplier.\r\n",
        "\r\n",
        "- Conv2DTranspose:2D Transposed convolution layer (sometimes called Deconvolution), but this is not the inverse operation of convolution. When the kernal maintains the same as convolution, and given the input size the same as the output size of convolution, then the output size of the transposed convolution is the same as the input size of convolution.\r\n",
        "\r\n",
        "- LocallyConnected2D: Locally-connected layer for 2D inputs. This layer works similarly to the Conv2D layer, except that weights are unshared, thus has much more parameters than Conv2D.\r\n",
        "\r\n",
        "- MaxPooling2D: 2D max pooling layer, also called down-sampling layer. This layer is for reducing dimension without any trainable prameter.\r\n",
        "\r\n",
        "- AveragePooling2D: 2D average pooling layer.\r\n",
        "\r\n",
        "- GlobalMaxPool2D: Global max pooling layer. Only one value preserved for each channel, usually used between convolution layer and fully connected layer, which is a substitution of Flatten.\r\n",
        "\r\n",
        "- GlobalAvgPool2D: Global average pooling layer. Only one value preserved for each channel.\r\n",
        "\r\n",
        "**Recursive network related layers**\r\n",
        "\r\n",
        "- Embedding: Embedding layer, provides an encoding with higher efficiency than one-hot for discrete features. It is usually used for projecting input words into dense vectors. Training is required for the parameters in the embedding layer.\r\n",
        "\r\n",
        "- LSTM: Long Short-Term Memory layer, which is the most popular layer for the recursive network. It contains carry track and is composed of a cell, an input gate, an output gate and a forget gate, which significantly alleviate the problem of gradient vanishing and thus applicable for the problem of long-term dependency. All the middle results could be observed when the patameter return_sequences is set as True; in the opposite case only the final result is returned.\r\n",
        "\r\n",
        "- GRU: Gated Recursive Unit Layer, a simplified version of LSTM without carry track, thus has less parameters and could be trained faster.\r\n",
        "\r\n",
        "- SimpleRNN: Simple Recursive Neural Network layer. It is not popular due to the problem of gradient vanishing, which made it inapplicable to the long-dependence.\r\n",
        "\r\n",
        "- ConvLSTM2D: Convolutional LSTM layer. Has similar structure to LSTM but the conversion operation to both input and status are convolution.\r\n",
        "\r\n",
        "- Bidirectional: Bi-directional wrapper for RNNs, for wrapping layers (such as LSTM and GRU) into bi-directional RNN, enhancing the capability of feature extraction.\r\n",
        "\r\n",
        "- RNN: Base class of RNN. It accepts an RNN cell or a list of RNN cells, and iterate on the sequence to convert the input as an RNN through the calling of tf.keras.backend.rnn function.\r\n",
        "\r\n",
        "- LSTMCell: LSTM cell. Unlike iterating across the whole sequence as LSTM, it only iterate once on the sequence. It would be more intuitive to understand the LSTM equals to LSTMCell wrapped by the base layer RNN.\r\n",
        "\r\n",
        "- GRUCell: GRU cell. Unlike iterating across the whole sequence as GRU, it only iterate once on the sequence.\r\n",
        "\r\n",
        "- SimpleRNNCell: SimpleRNN cell. Unlike iterating across the whole sequence as SimpleRNN, it only iterate once on the sequence.\r\n",
        "\r\n",
        "- AbstractRNNCell: Abstract RNN Cell. It allows user to customize RNN cell through inheritance and subsequently construct the RNN layer through wrapping these RNN cells by RNN base layer.\r\n",
        "\r\n",
        "- Attention: Dot-product attention layer, a.k.a. Luong-style attention, for constructing attention model.\r\n",
        "\r\n",
        "- AdditiveAttention: Additive attention layer, a.k.a. Bahdanau-style attention, for constructing attention model.\r\n",
        "\r\n",
        "- TimeDistributed: Time distributed wrapper, allows applying Dense, Conv2D to each time segment.\r\n",
        "\r\n",
        "**2. Customized Model Layer**\r\n",
        "\r\n",
        "It is recommended to use Lambda layer for customized model layer without trainable parameter.\r\n",
        "\r\n",
        "For the customized model layer with trainable parameters, it is recommended to inherite from the base class Layer.\r\n",
        "\r\n",
        "We only need to define forward propagation for Lambda layer since there is no trainable parameter, thus it is easier in application comparing to the inheritance from base class Layer.\r\n",
        "\r\n",
        "The forward propagation of Lambda layer could be expressed using lambda function or keyword def in Python."
      ]
    },
    {
      "cell_type": "code",
      "metadata": {
        "id": "PTK5e84e1k-R"
      },
      "source": [
        "import tensorflow as tf"
      ],
      "execution_count": 1,
      "outputs": []
    },
    {
      "cell_type": "code",
      "metadata": {
        "colab": {
          "base_uri": "https://localhost:8080/"
        },
        "id": "St-fsk1O2dS2",
        "outputId": "dcc0e92a-53fb-441f-f4dc-435d0f258460"
      },
      "source": [
        "mypower = tf.keras.layers.Lambda(lambda x: tf.math.pow(x, 2))\r\n",
        "mypower(tf.range(5))"
      ],
      "execution_count": 3,
      "outputs": [
        {
          "output_type": "execute_result",
          "data": {
            "text/plain": [
              "<tf.Tensor: shape=(5,), dtype=int32, numpy=array([ 0,  1,  4,  9, 16], dtype=int32)>"
            ]
          },
          "metadata": {
            "tags": []
          },
          "execution_count": 3
        }
      ]
    },
    {
      "cell_type": "markdown",
      "metadata": {
        "id": "r_pvx6Fi2km9"
      },
      "source": [
        "Inheriting from `Layer` needs re-implementation of the initialization, `build` and `call` methods. Here is an example of simplified linear layer, which is similar to `Dense`.\r\n"
      ]
    },
    {
      "cell_type": "code",
      "metadata": {
        "id": "k9ap7gJK2yjd"
      },
      "source": [
        "class Linear(tf.keras.layers.Layer):\r\n",
        "    def __init__(self, units=32, **kwargs):\r\n",
        "        super(Linear, self).__init__(**kwargs)\r\n",
        "        self.units = units\r\n",
        "\r\n",
        "    # The trainable parameters are defined in build method\r\n",
        "    def build(self, input_shape): \r\n",
        "        self.w = self.add_weight(\"w\",shape=(input_shape[-1], self.units),\r\n",
        "                                 initializer='random_normal',\r\n",
        "                                 trainable=True) # Parameter named \"w\" is compulsory or an error will be thrown out\r\n",
        "        self.b = self.add_weight(\"b\",shape=(self.units,),\r\n",
        "                                 initializer='random_normal',\r\n",
        "                                 trainable=True)\r\n",
        "        super(Linear,self).build(input_shape) # Identical to self.built = True\r\n",
        "    \r\n",
        "    @tf.function\r\n",
        "    def call(self, inputs):\r\n",
        "        return (inputs@self.w) + self.b\r\n",
        "        #return tf.matmult(inputs, self.w) + self.b\r\n",
        "\r\n",
        "    def get_config(self):\r\n",
        "        config = super(Linear, self).get_config()\r\n",
        "        config.update({\"units\": self.units})\r\n",
        "        return config\r\n",
        "        \r\n",
        "\r\n",
        "                                "
      ],
      "execution_count": 10,
      "outputs": []
    },
    {
      "cell_type": "code",
      "metadata": {
        "colab": {
          "base_uri": "https://localhost:8080/"
        },
        "id": "Aj08yO0S4Mb4",
        "outputId": "861df182-ccd8-4840-959a-b06030305fe9"
      },
      "source": [
        "linear = Linear(units = 8)\r\n",
        "print(linear.built)"
      ],
      "execution_count": 11,
      "outputs": [
        {
          "output_type": "stream",
          "text": [
            "False\n"
          ],
          "name": "stdout"
        }
      ]
    },
    {
      "cell_type": "code",
      "metadata": {
        "colab": {
          "base_uri": "https://localhost:8080/"
        },
        "id": "QIEbZD0P4Qt8",
        "outputId": "b73c064f-3bad-4c3d-aa68-4f8122b4d725"
      },
      "source": [
        "# specify input_shape, call build method; the 0th dimension is for the number of sampels, should be filled with None\r\n",
        "linear.build(input_shape = (None,16))\r\n",
        "print(linear.built)"
      ],
      "execution_count": 12,
      "outputs": [
        {
          "output_type": "stream",
          "text": [
            "True\n"
          ],
          "name": "stdout"
        }
      ]
    },
    {
      "cell_type": "code",
      "metadata": {
        "colab": {
          "base_uri": "https://localhost:8080/"
        },
        "id": "UiyHX59z4l5p",
        "outputId": "f8067cdb-aeab-42c7-c841-e8c87b210d4a"
      },
      "source": [
        "linear = Linear(units = 8 )\r\n",
        "print(linear.built)\r\n",
        "\r\n",
        "linear.build(input_shape=(None, 16))\r\n",
        "print(linear.compute_output_shape(input_shape =(None, 16)))"
      ],
      "execution_count": 15,
      "outputs": [
        {
          "output_type": "stream",
          "text": [
            "False\n",
            "(None, 8)\n"
          ],
          "name": "stdout"
        }
      ]
    },
    {
      "cell_type": "code",
      "metadata": {
        "colab": {
          "base_uri": "https://localhost:8080/"
        },
        "id": "WChqL6II5QwO",
        "outputId": "1fbf1188-310a-4674-8214-5417847b57ad"
      },
      "source": [
        "linear = Linear(units=16)\r\n",
        "print(linear.built)\r\n",
        "\r\n",
        "linear(tf.random.uniform((100, 64)))\r\n",
        "print(linear.built)\r\n",
        "\r\n",
        "config = linear.get_config()\r\n",
        "print(config)"
      ],
      "execution_count": 17,
      "outputs": [
        {
          "output_type": "stream",
          "text": [
            "False\n",
            "True\n",
            "{'name': 'linear_4', 'trainable': True, 'dtype': 'float32', 'units': 16}\n"
          ],
          "name": "stdout"
        }
      ]
    },
    {
      "cell_type": "code",
      "metadata": {
        "colab": {
          "base_uri": "https://localhost:8080/"
        },
        "id": "c1-HuMdp6AfF",
        "outputId": "0cec001b-9fca-4686-d6a9-9a065c8b9845"
      },
      "source": [
        "model = tf.keras.models.Sequential()\r\n",
        "# Note: the input_shape here is actually calling the inheritance of layer class, not the build() so we skip sample size\r\n",
        "model.add(Linear(units=1, input_shape=(2,)))\r\n",
        "print(f\"model.input_shape: {model.input_shape}\")\r\n",
        "print(f\"model.output_shape: {model.output_shape}\")\r\n",
        "\r\n",
        "model.summary()"
      ],
      "execution_count": 18,
      "outputs": [
        {
          "output_type": "stream",
          "text": [
            "model.input_shape: (None, 2)\n",
            "model.output_shape: (None, 1)\n",
            "Model: \"sequential\"\n",
            "_________________________________________________________________\n",
            "Layer (type)                 Output Shape              Param #   \n",
            "=================================================================\n",
            "linear_5 (Linear)            (None, 1)                 3         \n",
            "=================================================================\n",
            "Total params: 3\n",
            "Trainable params: 3\n",
            "Non-trainable params: 0\n",
            "_________________________________________________________________\n"
          ],
          "name": "stdout"
        }
      ]
    },
    {
      "cell_type": "code",
      "metadata": {
        "colab": {
          "base_uri": "https://localhost:8080/"
        },
        "id": "1yjp4C636kO-",
        "outputId": "a603ba1d-4206-4e59-82ac-027c2f982f41"
      },
      "source": [
        "model.compile(optimizer=\"sgd\",\r\n",
        "              loss=\"mse\",\r\n",
        "              metrics=[\"mae\"])\r\n",
        "\r\n",
        "print(model.predict(tf.constant([[3.0, 2.0],[4.0, 5.0]])))"
      ],
      "execution_count": 19,
      "outputs": [
        {
          "output_type": "stream",
          "text": [
            "[[-0.0283266 ]\n",
            " [-0.04830781]]\n"
          ],
          "name": "stdout"
        }
      ]
    },
    {
      "cell_type": "code",
      "metadata": {
        "id": "GUn_gcQI63rV"
      },
      "source": [
        ""
      ],
      "execution_count": null,
      "outputs": []
    }
  ]
}