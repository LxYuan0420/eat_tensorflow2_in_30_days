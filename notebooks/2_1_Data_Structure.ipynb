{
  "nbformat": 4,
  "nbformat_minor": 0,
  "metadata": {
    "colab": {
      "name": "2-1 Data Structure.ipynb",
      "provenance": [],
      "collapsed_sections": [],
      "authorship_tag": "ABX9TyNgzJb0ryhsB5A/jLYM7ljL",
      "include_colab_link": true
    },
    "kernelspec": {
      "name": "python3",
      "display_name": "Python 3"
    }
  },
  "cells": [
    {
      "cell_type": "markdown",
      "metadata": {
        "id": "view-in-github",
        "colab_type": "text"
      },
      "source": [
        "<a href=\"https://colab.research.google.com/github/LxYuan0420/eat_tensorflow2_in_30_days/blob/master/notebooks/2_1_Data_Structure.ipynb\" target=\"_parent\"><img src=\"https://colab.research.google.com/assets/colab-badge.svg\" alt=\"Open In Colab\"/></a>"
      ]
    },
    {
      "cell_type": "code",
      "metadata": {
        "colab": {
          "base_uri": "https://localhost:8080/"
        },
        "id": "Rk9BxQCPo9Nv",
        "outputId": "7bbc28fa-0e78-4040-ee26-06cb04f67f99"
      },
      "source": [
        "from google.colab import drive\n",
        "drive.mount('/gdrive')"
      ],
      "execution_count": 1,
      "outputs": [
        {
          "output_type": "stream",
          "text": [
            "Mounted at /gdrive\n"
          ],
          "name": "stdout"
        }
      ]
    },
    {
      "cell_type": "markdown",
      "metadata": {
        "id": "m2jgR-oJo-Jp"
      },
      "source": [
        "**2-1 Data Structure**\r\n",
        "\r\n",
        "Program = Data Structure + Algorithm\r\n",
        "\r\n",
        "TensorFlow Program = Data Structure of Tensor + Algorithm in Graph\r\n",
        "\r\n",
        "Tensor and graph are key concepts of TensorFlow.\r\n",
        "\r\n",
        "The fundamental data structure in TensorFlow is Tensor, which is multi-dimentional array. Tensor is similar with the array in numpy.\r\n",
        "\r\n",
        "There are two types of tensor accoring to the behavior: constant and variable.\r\n",
        "\r\n",
        "The value of constant cannot be re-assigned in the graph, while variable can be re-assigned through operators such as assign."
      ]
    },
    {
      "cell_type": "markdown",
      "metadata": {
        "id": "V-P1GGW6pLRv"
      },
      "source": [
        "**1. Constant Tensor**\r\n",
        "\r\n",
        "The data type of tensor is basically corresponding to `numpy.array`"
      ]
    },
    {
      "cell_type": "code",
      "metadata": {
        "colab": {
          "base_uri": "https://localhost:8080/"
        },
        "id": "bndtNuOnpRa1",
        "outputId": "2c094dc9-5b88-44e0-b787-b7db0a10d805"
      },
      "source": [
        "import numpy as np\r\n",
        "import tensorflow as tf\r\n",
        "\r\n",
        "i = tf.constant(1) #tf.int32 type constant\r\n",
        "l = tf.constant(1, dtype=tf.int64) #tf.int64 type constant\r\n",
        "f = tf.constant(1.23) #tf.float32 type constant\r\n",
        "d = tf.constant(3.14, dtype=tf.double) #tf.double type constant\r\n",
        "s = tf.constant(\"hello world\") #tf.string type constant\r\n",
        "b = tf.constant(True) #tf.bool type constant\r\n",
        "\r\n",
        "print(tf.int64 == np.int64)\r\n",
        "print(tf.bool == np.bool)\r\n",
        "print(tf.double == np.float64)\r\n",
        "print(tf.string == np.unicode) #tf.string type is not equal to np.unicode type"
      ],
      "execution_count": 2,
      "outputs": [
        {
          "output_type": "stream",
          "text": [
            "True\n",
            "True\n",
            "True\n",
            "False\n"
          ],
          "name": "stdout"
        }
      ]
    },
    {
      "cell_type": "markdown",
      "metadata": {
        "id": "YvhVNKt9p9DS"
      },
      "source": [
        "Each data type can be represented by tensor in different rank.\r\n",
        "\r\n",
        "Scalars are tensors with rank = 0, arrays are with rank = 1, matrix are with rank = 2\r\n",
        "\r\n",
        "Colorful image has three channels (RGB), which can be represented as a tensor with rank = 3.\r\n",
        "\r\n",
        "There is a temporal dimension for video so it could be represented as a rank 4 tensor.\r\n",
        "\r\n",
        "An intuitive way to understand: the number of the square brackets equals to the rank of the tensor."
      ]
    },
    {
      "cell_type": "code",
      "metadata": {
        "colab": {
          "base_uri": "https://localhost:8080/"
        },
        "id": "2NEkp7WRqAZe",
        "outputId": "d0e90b1b-6f52-42a2-95b7-fc71d75c33bf"
      },
      "source": [
        "scalar = tf.constant(1)\r\n",
        "\r\n",
        "print(tf.rank(scalar))\r\n",
        "print(scalar.numpy().ndim) #tf.rank equals to the ndim function in numpy "
      ],
      "execution_count": 16,
      "outputs": [
        {
          "output_type": "stream",
          "text": [
            "tf.Tensor(0, shape=(), dtype=int32)\n",
            "0\n"
          ],
          "name": "stdout"
        }
      ]
    },
    {
      "cell_type": "code",
      "metadata": {
        "colab": {
          "base_uri": "https://localhost:8080/"
        },
        "id": "Gf09HGSErgAv",
        "outputId": "a6d30d17-c5f6-408e-daf9-831fdee29887"
      },
      "source": [
        "scalar"
      ],
      "execution_count": 17,
      "outputs": [
        {
          "output_type": "execute_result",
          "data": {
            "text/plain": [
              "<tf.Tensor: shape=(), dtype=int32, numpy=1>"
            ]
          },
          "metadata": {
            "tags": []
          },
          "execution_count": 17
        }
      ]
    },
    {
      "cell_type": "code",
      "metadata": {
        "colab": {
          "base_uri": "https://localhost:8080/"
        },
        "id": "_daV83gnqC8H",
        "outputId": "3d47347f-1622-455f-b6a7-415f1838c4d4"
      },
      "source": [
        "vector = tf.constant([1.0, 2.0, 3.0, 4.0]) # A vector is a rank 1 tensor\r\n",
        "\r\n",
        "print(tf.rank(vector))\r\n",
        "print(vector.numpy().ndim)"
      ],
      "execution_count": 14,
      "outputs": [
        {
          "output_type": "stream",
          "text": [
            "tf.Tensor(1, shape=(), dtype=int32)\n",
            "1\n"
          ],
          "name": "stdout"
        }
      ]
    },
    {
      "cell_type": "code",
      "metadata": {
        "colab": {
          "base_uri": "https://localhost:8080/"
        },
        "id": "WJvHfVynrfWR",
        "outputId": "65213c02-ce84-4b09-9863-a1374aaf70ec"
      },
      "source": [
        "vector"
      ],
      "execution_count": 15,
      "outputs": [
        {
          "output_type": "execute_result",
          "data": {
            "text/plain": [
              "<tf.Tensor: shape=(4,), dtype=float32, numpy=array([1., 2., 3., 4.], dtype=float32)>"
            ]
          },
          "metadata": {
            "tags": []
          },
          "execution_count": 15
        }
      ]
    },
    {
      "cell_type": "code",
      "metadata": {
        "colab": {
          "base_uri": "https://localhost:8080/"
        },
        "id": "fnbQSaquq_W_",
        "outputId": "3eabc287-cd90-4873-b461-630f4d4a9b75"
      },
      "source": [
        "matrix = tf.constant([[1.0,2.0],[3.0,4.0]]) #A matrix is a rank 2 tensor\r\n",
        "\r\n",
        "print(tf.rank(matrix))\r\n",
        "print(np.ndim(matrix.numpy()))"
      ],
      "execution_count": 19,
      "outputs": [
        {
          "output_type": "stream",
          "text": [
            "tf.Tensor(2, shape=(), dtype=int32)\n",
            "2\n"
          ],
          "name": "stdout"
        }
      ]
    },
    {
      "cell_type": "code",
      "metadata": {
        "colab": {
          "base_uri": "https://localhost:8080/"
        },
        "id": "KzeKWs7qrRqn",
        "outputId": "49449398-4472-46a1-98fe-4ae9c316b03a"
      },
      "source": [
        "matrix"
      ],
      "execution_count": 20,
      "outputs": [
        {
          "output_type": "execute_result",
          "data": {
            "text/plain": [
              "<tf.Tensor: shape=(2, 2), dtype=float32, numpy=\n",
              "array([[1., 2.],\n",
              "       [3., 4.]], dtype=float32)>"
            ]
          },
          "metadata": {
            "tags": []
          },
          "execution_count": 20
        }
      ]
    },
    {
      "cell_type": "code",
      "metadata": {
        "colab": {
          "base_uri": "https://localhost:8080/"
        },
        "id": "2rIgbrwar32I",
        "outputId": "a3960872-4bf5-421b-814d-625ced4e2929"
      },
      "source": [
        "tensor3 = tf.constant([\r\n",
        "                       [[1.0,2.0], [3.0,4.0]],\r\n",
        "                       [[5.0,6.0], [7.0,8.0]]\r\n",
        "                       ])  # A rank 3 tensor\r\n",
        "print(tensor3)\r\n",
        "print(tf.rank(tensor3))"
      ],
      "execution_count": 24,
      "outputs": [
        {
          "output_type": "stream",
          "text": [
            "tf.Tensor(\n",
            "[[[1. 2.]\n",
            "  [3. 4.]]\n",
            "\n",
            " [[5. 6.]\n",
            "  [7. 8.]]], shape=(2, 2, 2), dtype=float32)\n",
            "tf.Tensor(3, shape=(), dtype=int32)\n"
          ],
          "name": "stdout"
        }
      ]
    },
    {
      "cell_type": "code",
      "metadata": {
        "colab": {
          "base_uri": "https://localhost:8080/"
        },
        "id": "soURdNTor-Ff",
        "outputId": "2e19c634-5268-4f35-ba9e-68ae40b9dcfd"
      },
      "source": [
        "tensor3"
      ],
      "execution_count": 25,
      "outputs": [
        {
          "output_type": "execute_result",
          "data": {
            "text/plain": [
              "<tf.Tensor: shape=(2, 2, 2), dtype=float32, numpy=\n",
              "array([[[1., 2.],\n",
              "        [3., 4.]],\n",
              "\n",
              "       [[5., 6.],\n",
              "        [7., 8.]]], dtype=float32)>"
            ]
          },
          "metadata": {
            "tags": []
          },
          "execution_count": 25
        }
      ]
    },
    {
      "cell_type": "code",
      "metadata": {
        "colab": {
          "base_uri": "https://localhost:8080/"
        },
        "id": "xhBtW7jzr-zP",
        "outputId": "77c0c86b-ee1d-4ef4-93b9-5e36b024833a"
      },
      "source": [
        "tensor4 = tf.constant([[[[1.0,1.0],[2.0,2.0]],[[3.0,3.0],[4.0,4.0]]],\r\n",
        "                        [[[5.0,5.0],[6.0,6.0]],[[7.0,7.0],[8.0,8.0]]]])  # A rank 4 tensor\r\n",
        "print(tensor4)\r\n",
        "print(tf.rank(tensor4))"
      ],
      "execution_count": 26,
      "outputs": [
        {
          "output_type": "stream",
          "text": [
            "tf.Tensor(\n",
            "[[[[1. 1.]\n",
            "   [2. 2.]]\n",
            "\n",
            "  [[3. 3.]\n",
            "   [4. 4.]]]\n",
            "\n",
            "\n",
            " [[[5. 5.]\n",
            "   [6. 6.]]\n",
            "\n",
            "  [[7. 7.]\n",
            "   [8. 8.]]]], shape=(2, 2, 2, 2), dtype=float32)\n",
            "tf.Tensor(4, shape=(), dtype=int32)\n"
          ],
          "name": "stdout"
        }
      ]
    },
    {
      "cell_type": "markdown",
      "metadata": {
        "id": "3L8cODvcsb7H"
      },
      "source": [
        "We use tf.cast to change the data type of the tensors.\r\n",
        "\r\n",
        "The method numpy() is for converting the data type from tensor to numpy array.\r\n",
        "\r\n",
        "The method shape is for checking up the size of tensor."
      ]
    },
    {
      "cell_type": "code",
      "metadata": {
        "colab": {
          "base_uri": "https://localhost:8080/"
        },
        "id": "VR09nX42uLhm",
        "outputId": "bed9f95b-8abb-4a4c-86a5-f63efb0641a0"
      },
      "source": [
        "h = tf.constant([123, 456], dtype=tf.int32)\r\n",
        "f = tf.cast(h, tf.float32)\r\n",
        "print(h.dtype, f.dtype)"
      ],
      "execution_count": 27,
      "outputs": [
        {
          "output_type": "stream",
          "text": [
            "<dtype: 'int32'> <dtype: 'float32'>\n"
          ],
          "name": "stdout"
        }
      ]
    },
    {
      "cell_type": "code",
      "metadata": {
        "colab": {
          "base_uri": "https://localhost:8080/"
        },
        "id": "mwgmY0AAuTOh",
        "outputId": "74c5e404-5cdd-4137-8eb4-53caff31a6b8"
      },
      "source": [
        "y = tf.constant([[1.0, 2.0], [3.0, 4.0]])\r\n",
        "print(y.numpy())\r\n",
        "print(y.shape)"
      ],
      "execution_count": 28,
      "outputs": [
        {
          "output_type": "stream",
          "text": [
            "[[1. 2.]\n",
            " [3. 4.]]\n",
            "(2, 2)\n"
          ],
          "name": "stdout"
        }
      ]
    },
    {
      "cell_type": "code",
      "metadata": {
        "colab": {
          "base_uri": "https://localhost:8080/"
        },
        "id": "SYwBFlvIubVY",
        "outputId": "207c9115-6659-4881-80a2-884a57e3e071"
      },
      "source": [
        "u = tf.constant(u\"Hello World\")\r\n",
        "print(u.numpy())\r\n",
        "print(u.numpy().decode(\"utf-8\"))"
      ],
      "execution_count": 29,
      "outputs": [
        {
          "output_type": "stream",
          "text": [
            "b'Hello World'\n",
            "Hello World\n"
          ],
          "name": "stdout"
        }
      ]
    },
    {
      "cell_type": "markdown",
      "metadata": {
        "id": "muOETs2Tui4u"
      },
      "source": [
        "**2. Variable Tensor**\r\n",
        "\r\n",
        "the trainable parameters in the modls are usually defined as variables"
      ]
    },
    {
      "cell_type": "code",
      "metadata": {
        "colab": {
          "base_uri": "https://localhost:8080/"
        },
        "id": "L2pwa1s_usiu",
        "outputId": "94e665d2-f562-4339-ed55-61bc83e700e1"
      },
      "source": [
        "# the value of a constant is NOT changeable. Re-assignment creates a new space in the memory.\r\n",
        "c = tf.constant([1.0, 2.0])\r\n",
        "print(c)\r\n",
        "print(id(c))\r\n",
        "\r\n",
        "c = c + tf.constant([1.0, 1.0])\r\n",
        "print(c)\r\n",
        "print(id(c))"
      ],
      "execution_count": 30,
      "outputs": [
        {
          "output_type": "stream",
          "text": [
            "tf.Tensor([1. 2.], shape=(2,), dtype=float32)\n",
            "140265892393032\n",
            "tf.Tensor([2. 3.], shape=(2,), dtype=float32)\n",
            "140265892393384\n"
          ],
          "name": "stdout"
        }
      ]
    },
    {
      "cell_type": "code",
      "metadata": {
        "colab": {
          "base_uri": "https://localhost:8080/"
        },
        "id": "_Tk7BAK9vDpB",
        "outputId": "622685e8-b4f0-4c3d-9c51-d2b0898b0805"
      },
      "source": [
        "# The value of a variable is changeable throught re-assigning methods such as assign, assign_add, etc.\r\n",
        "v = tf.Variable([1.0, 2.0], name='v')\r\n",
        "print(v)\r\n",
        "print(id(v))\r\n",
        "\r\n",
        "v.assign_add([1.0, 1.0])\r\n",
        "print(v)\r\n",
        "print(id(v))"
      ],
      "execution_count": 31,
      "outputs": [
        {
          "output_type": "stream",
          "text": [
            "<tf.Variable 'v:0' shape=(2,) dtype=float32, numpy=array([1., 2.], dtype=float32)>\n",
            "140265894042928\n",
            "<tf.Variable 'v:0' shape=(2,) dtype=float32, numpy=array([2., 3.], dtype=float32)>\n",
            "140265894042928\n"
          ],
          "name": "stdout"
        }
      ]
    }
  ]
}