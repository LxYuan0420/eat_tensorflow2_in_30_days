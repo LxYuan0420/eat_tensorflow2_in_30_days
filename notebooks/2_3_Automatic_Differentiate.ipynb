{
  "nbformat": 4,
  "nbformat_minor": 0,
  "metadata": {
    "colab": {
      "name": "2-3 Automatic Differentiate.ipynb",
      "provenance": [],
      "authorship_tag": "ABX9TyMtzCKXBZhzy5c3zG++KDJK",
      "include_colab_link": true
    },
    "kernelspec": {
      "name": "python3",
      "display_name": "Python 3"
    }
  },
  "cells": [
    {
      "cell_type": "markdown",
      "metadata": {
        "id": "view-in-github",
        "colab_type": "text"
      },
      "source": [
        "<a href=\"https://colab.research.google.com/github/LxYuan0420/eat_tensorflow2_in_30_days/blob/master/notebooks/2_3_Automatic_Differentiate.ipynb\" target=\"_parent\"><img src=\"https://colab.research.google.com/assets/colab-badge.svg\" alt=\"Open In Colab\"/></a>"
      ]
    },
    {
      "cell_type": "code",
      "metadata": {
        "colab": {
          "base_uri": "https://localhost:8080/"
        },
        "id": "YVoCxv-f6CK3",
        "outputId": "b2863ec1-b2b1-4da1-89bc-1e48ab34bb8d"
      },
      "source": [
        "from google.colab import drive\n",
        "drive.mount('/gdrive')"
      ],
      "execution_count": 1,
      "outputs": [
        {
          "output_type": "stream",
          "text": [
            "Mounted at /gdrive\n"
          ],
          "name": "stdout"
        }
      ]
    },
    {
      "cell_type": "code",
      "metadata": {
        "colab": {
          "base_uri": "https://localhost:8080/"
        },
        "id": "flA9x36a6dUu",
        "outputId": "70b809fc-cfe4-419e-be35-ee66cb98d665"
      },
      "source": [
        "%cd \"/gdrive/MyDrive/Colab Notebooks/git/eat_tensorflow2_in_30_days/notebooks\""
      ],
      "execution_count": 14,
      "outputs": [
        {
          "output_type": "stream",
          "text": [
            "/gdrive/MyDrive/Colab Notebooks/git/eat_tensorflow2_in_30_days/notebooks\n"
          ],
          "name": "stdout"
        }
      ]
    },
    {
      "cell_type": "markdown",
      "metadata": {
        "id": "Yb42NS2D6e76"
      },
      "source": [
        "**2-3 Automatic Differentiate**\r\n",
        "---\r\n",
        "\r\n",
        "The neural networks relies on back propagations to calculate gradients and update the parameters in the network. Gradient calculation is complicated which is easy to incur mistakes.\r\n",
        "\r\n",
        "The framework of deeplearning helps us to calculate gradient automatically.\r\n",
        "\r\n",
        "`tf.GradientTape` is usually used to record forward calculation in Tensorflow, and reverse this \"tape\" to obtain the gradient.\r\n",
        "\r\n",
        "This is the automatic differentiate in TensorFlow.\r\n",
        "\r\n",
        "**1. Calculate the Derivative Using the Gradient Tape**\r\n"
      ]
    },
    {
      "cell_type": "code",
      "metadata": {
        "id": "NzxFutY76ffC"
      },
      "source": [
        "import tensorflow as tf\r\n",
        "import numpy as np"
      ],
      "execution_count": 15,
      "outputs": []
    },
    {
      "cell_type": "code",
      "metadata": {
        "colab": {
          "base_uri": "https://localhost:8080/"
        },
        "id": "gW8x60ub6hPC",
        "outputId": "fc4e2da3-ba53-4bfb-9eb9-652b15e538b1"
      },
      "source": [
        "x = tf.Variable(0.0, name='x', dtype=tf.float32)\r\n",
        "a = tf.constant(1.0)\r\n",
        "b = tf.constant(-2.0)\r\n",
        "c = tf.constant(1.0)\r\n",
        "\r\n",
        "with tf.GradientTape() as tape:\r\n",
        "    y = a*tf.pow(x, 2) + b*x + c\r\n",
        "\r\n",
        "dy_dx = tape.gradient(y, x)\r\n",
        "print(dy_dx)"
      ],
      "execution_count": 17,
      "outputs": [
        {
          "output_type": "stream",
          "text": [
            "tf.Tensor(-2.0, shape=(), dtype=float32)\n"
          ],
          "name": "stdout"
        }
      ]
    },
    {
      "cell_type": "code",
      "metadata": {
        "colab": {
          "base_uri": "https://localhost:8080/"
        },
        "id": "yU4uPea16sh7",
        "outputId": "8806bfbf-05f1-4030-e6bb-8cf0c6b8ae36"
      },
      "source": [
        "# use watch to calculate derivatives of the constant tensor\r\n",
        "\r\n",
        "with tf.GradientTape() as tape:\r\n",
        "    tape.watch([a,b,c])\r\n",
        "    y = a*tf.pow(x, 2) + b*x + c\r\n",
        "\r\n",
        "dy_dx, dy_da, dy_db, dy_dc = tape.gradient(y, [x,a,b,c])\r\n",
        "print(dy_dx)\r\n",
        "print(dy_da)\r\n",
        "print(dy_db)\r\n",
        "print(dy_dc)"
      ],
      "execution_count": 19,
      "outputs": [
        {
          "output_type": "stream",
          "text": [
            "tf.Tensor(-2.0, shape=(), dtype=float32)\n",
            "tf.Tensor(0.0, shape=(), dtype=float32)\n",
            "tf.Tensor(0.0, shape=(), dtype=float32)\n",
            "tf.Tensor(1.0, shape=(), dtype=float32)\n"
          ],
          "name": "stdout"
        }
      ]
    },
    {
      "cell_type": "code",
      "metadata": {
        "colab": {
          "base_uri": "https://localhost:8080/"
        },
        "id": "rgN9ikGT_iT0",
        "outputId": "881b9e66-d3b7-42da-b8ec-9d67cfef701c"
      },
      "source": [
        "# use it in the autograph\r\n",
        "\r\n",
        "@tf.function\r\n",
        "def f(x):\r\n",
        "    a = tf.constant(1.0)\r\n",
        "    b = tf.constant(-2.0)\r\n",
        "    c = tf.constant(1.0)\r\n",
        "\r\n",
        "    x = tf.cast(x, tf.float32)\r\n",
        "    with tf.GradientTape() as tape:\r\n",
        "        tape.watch(x)\r\n",
        "        y = a*tf.pow(x,2)+b*x+c\r\n",
        "    \r\n",
        "    dy_dx = tape.gradient(y, x)\r\n",
        "\r\n",
        "    return((dy_dx, y))\r\n",
        "\r\n",
        "tf.print(f(tf.constant(0.0)))\r\n",
        "tf.print(f(tf.constant(1.0)))"
      ],
      "execution_count": 21,
      "outputs": [
        {
          "output_type": "stream",
          "text": [
            "(-2, 1)\n",
            "(0, 0)\n"
          ],
          "name": "stdout"
        }
      ]
    },
    {
      "cell_type": "markdown",
      "metadata": {
        "id": "IiQ00gRNAKnq"
      },
      "source": [
        "**2. Calculate the Minimal Value Through the Gradient Tape and the Optimizer**"
      ]
    },
    {
      "cell_type": "code",
      "metadata": {
        "colab": {
          "base_uri": "https://localhost:8080/"
        },
        "id": "Xn64aelGBCUR",
        "outputId": "ccdf7083-9ff5-4e56-ae83-1d03ad5e89c4"
      },
      "source": [
        "#Calculate the minimal value of f(x) = a*x**2 + b*x + c\r\n",
        "#Use optimizer.minimize\r\n",
        "#this optmizer.minimize is identical to calculating gradient using tape, then call apply_gradient\r\n",
        "\r\n",
        "x = tf.Variable(0.0, name='x', dtype=tf.float32)\r\n",
        "\r\n",
        "# Note that f() has no argument\r\n",
        "def f():\r\n",
        "    a = tf.constant(1.0)\r\n",
        "    b = tf.constant(-2.0)\r\n",
        "    c = tf.constant(1.0)\r\n",
        "    y = a*tf.pow(x, 2) + b*x + c\r\n",
        "\r\n",
        "    return (y)\r\n",
        "\r\n",
        "\r\n",
        "optimizer = tf.keras.optimizers.SGD(learning_rate=0.01)\r\n",
        "\r\n",
        "for _ in range(1000):\r\n",
        "    optimizer.minimize(f, [x])\r\n",
        "\r\n",
        "tf.print(\"y =\", f(),\"; x =\",x)"
      ],
      "execution_count": 22,
      "outputs": [
        {
          "output_type": "stream",
          "text": [
            "y = 0 ; x = 0.99999851\n"
          ],
          "name": "stdout"
        }
      ]
    },
    {
      "cell_type": "code",
      "metadata": {
        "colab": {
          "base_uri": "https://localhost:8080/"
        },
        "id": "Qg2b1nWoCz9c",
        "outputId": "096e5f37-69a5-45bc-e10a-ebaaf2a05859"
      },
      "source": [
        "#Calculate minimal value in Autograph\r\n",
        "#Use optimizer.apply_gradients\r\n",
        "\r\n",
        "x = tf.Variable(0.0, name='x', dtype=tf.float32)\r\n",
        "optimizer = tf.keras.optimizers.SGD(learning_rate=0.05)\r\n",
        "\r\n",
        "\r\n",
        "# Note that f() has no argument\r\n",
        "@tf.function\r\n",
        "def minimizef():\r\n",
        "    a = tf.constant(1.0)\r\n",
        "    b = tf.constant(-2.0)\r\n",
        "    c = tf.constant(1.0)\r\n",
        "\r\n",
        "    for _ in tf.range(1000): #use tf.range(1000) when using autograph\r\n",
        "        with tf.GradientTape() as tape:\r\n",
        "            y = a*tf.pow(x, 2) + b*x + c\r\n",
        "        dy_dx = tape.gradient(y, x)\r\n",
        "        optimizer.apply_gradients([(dy_dx, x)])\r\n",
        "    \r\n",
        "    y = a*tf.pow(x, 2) + b*x + c\r\n",
        "    return (y)\r\n",
        "\r\n",
        "tf.print(minimizef()) \r\n",
        "tf.print(x)"
      ],
      "execution_count": 27,
      "outputs": [
        {
          "output_type": "stream",
          "text": [
            "0\n",
            "0.999999762\n"
          ],
          "name": "stdout"
        }
      ]
    },
    {
      "cell_type": "code",
      "metadata": {
        "colab": {
          "base_uri": "https://localhost:8080/"
        },
        "id": "B8TETFNWEn8d",
        "outputId": "b9c08e2c-3c84-42a0-d8e9-16514c712c03"
      },
      "source": [
        "# calculate minimal value in Autograph\r\n",
        "# Use optimizer.minimize\r\n",
        "\r\n",
        "x = tf.Variable(0.0, name='x', dtype=tf.float32)\r\n",
        "optimizer = tf.keras.optimizers.SGD(learning_rate=0.01)\r\n",
        "\r\n",
        "\r\n",
        "# Note that f() has no argument\r\n",
        "@tf.function\r\n",
        "def f():\r\n",
        "    a = tf.constant(1.0)\r\n",
        "    b = tf.constant(-2.0)\r\n",
        "    c = tf.constant(1.0)\r\n",
        "\r\n",
        "    y = a*tf.pow(x, 2) + b*x + c\r\n",
        "    return (y)\r\n",
        "\r\n",
        "@tf.function\r\n",
        "def train(epoch):\r\n",
        "    for _ in tf.range(epoch):\r\n",
        "        optimizer.minimize(f,[x])\r\n",
        "    return (f())\r\n",
        "\r\n",
        "tf.print(train(1000))\r\n",
        "tf.print(x)"
      ],
      "execution_count": 28,
      "outputs": [
        {
          "output_type": "stream",
          "text": [
            "0\n",
            "0.99999851\n"
          ],
          "name": "stdout"
        }
      ]
    },
    {
      "cell_type": "code",
      "metadata": {
        "id": "GL_Hs5YMGPd9"
      },
      "source": [
        ""
      ],
      "execution_count": null,
      "outputs": []
    }
  ]
}