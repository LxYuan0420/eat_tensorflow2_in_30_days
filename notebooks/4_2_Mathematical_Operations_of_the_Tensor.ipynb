{
  "nbformat": 4,
  "nbformat_minor": 0,
  "metadata": {
    "colab": {
      "name": "4-2 Mathematical Operations of the Tensor.ipynb",
      "provenance": [],
      "collapsed_sections": [],
      "authorship_tag": "ABX9TyNMup+kOPW/1uZoK8DayadG",
      "include_colab_link": true
    },
    "kernelspec": {
      "name": "python3",
      "display_name": "Python 3"
    }
  },
  "cells": [
    {
      "cell_type": "markdown",
      "metadata": {
        "id": "view-in-github",
        "colab_type": "text"
      },
      "source": [
        "<a href=\"https://colab.research.google.com/github/LxYuan0420/eat_tensorflow2_in_30_days/blob/master/notebooks/4_2_Mathematical_Operations_of_the_Tensor.ipynb\" target=\"_parent\"><img src=\"https://colab.research.google.com/assets/colab-badge.svg\" alt=\"Open In Colab\"/></a>"
      ]
    },
    {
      "cell_type": "markdown",
      "metadata": {
        "id": "RjKJMJ0wXkTt"
      },
      "source": [
        "**Tensor operation includes structural operation and mathematical operation.**\r\n",
        "\r\n",
        "The structural operation includes tensor creation, index slicing, dimension transform, combining & splitting, etc.\r\n",
        "\r\n",
        "The mathematical operation includes scalar operation, vector operation, and matrix operation. We will also introduce the broadcasting mechanism of tensor operation.\r\n",
        "\r\n",
        "This section is about the mathematical operation of tensor.\r\n",
        "\r\n",
        "**1. Scalar Operation**\r\n",
        "\r\n",
        "The mathematical operation includes scalar operation, vector operation, and matrix operation.\r\n",
        "\r\n",
        "The scalar operation includes add, subtract, multiply, divide, power, and trigonometric functions, exponential functions, log functions, and logical comparison, etc.\r\n",
        "\r\n",
        "The scalar operation is an element-by-element operation.\r\n",
        "\r\n",
        "Some of the scalar operators are overloaded from the normal mathematical operators and support broadcasting similar as numpy.\r\n",
        "\r\n",
        "Most scalar operators are under the module tf.math."
      ]
    },
    {
      "cell_type": "code",
      "metadata": {
        "id": "kMdAZouAX9ui"
      },
      "source": [
        "import tensorflow as tf\r\n",
        "import numpy as np"
      ],
      "execution_count": 1,
      "outputs": []
    },
    {
      "cell_type": "code",
      "metadata": {
        "colab": {
          "base_uri": "https://localhost:8080/"
        },
        "id": "3wcYcYrkYjuE",
        "outputId": "72d5262b-eb51-413d-b025-32d010389bd0"
      },
      "source": [
        "a = tf.constant([[1.0, 2], [-3, 4.0]])\r\n",
        "b = tf.constant([[5.0, 6], [7, 8.0]])\r\n",
        "\r\n",
        "a+b"
      ],
      "execution_count": 2,
      "outputs": [
        {
          "output_type": "execute_result",
          "data": {
            "text/plain": [
              "<tf.Tensor: shape=(2, 2), dtype=float32, numpy=\n",
              "array([[ 6.,  8.],\n",
              "       [ 4., 12.]], dtype=float32)>"
            ]
          },
          "metadata": {
            "tags": []
          },
          "execution_count": 2
        }
      ]
    },
    {
      "cell_type": "code",
      "metadata": {
        "colab": {
          "base_uri": "https://localhost:8080/"
        },
        "id": "ZHFk30R8Yp98",
        "outputId": "0c75471b-61a9-4abd-f245-2c90d700e051"
      },
      "source": [
        "a-b"
      ],
      "execution_count": 3,
      "outputs": [
        {
          "output_type": "execute_result",
          "data": {
            "text/plain": [
              "<tf.Tensor: shape=(2, 2), dtype=float32, numpy=\n",
              "array([[ -4.,  -4.],\n",
              "       [-10.,  -4.]], dtype=float32)>"
            ]
          },
          "metadata": {
            "tags": []
          },
          "execution_count": 3
        }
      ]
    },
    {
      "cell_type": "code",
      "metadata": {
        "colab": {
          "base_uri": "https://localhost:8080/"
        },
        "id": "2zSetGSIYvrh",
        "outputId": "44a1441f-c803-4ddb-b329-ed2130321d90"
      },
      "source": [
        "a*b"
      ],
      "execution_count": 4,
      "outputs": [
        {
          "output_type": "execute_result",
          "data": {
            "text/plain": [
              "<tf.Tensor: shape=(2, 2), dtype=float32, numpy=\n",
              "array([[  5.,  12.],\n",
              "       [-21.,  32.]], dtype=float32)>"
            ]
          },
          "metadata": {
            "tags": []
          },
          "execution_count": 4
        }
      ]
    },
    {
      "cell_type": "code",
      "metadata": {
        "colab": {
          "base_uri": "https://localhost:8080/"
        },
        "id": "7uRHb1ZIYx8h",
        "outputId": "e6612bc5-6f5e-415d-e424-b8b461c8be3b"
      },
      "source": [
        "a/b"
      ],
      "execution_count": 5,
      "outputs": [
        {
          "output_type": "execute_result",
          "data": {
            "text/plain": [
              "<tf.Tensor: shape=(2, 2), dtype=float32, numpy=\n",
              "array([[ 0.2       ,  0.33333334],\n",
              "       [-0.42857143,  0.5       ]], dtype=float32)>"
            ]
          },
          "metadata": {
            "tags": []
          },
          "execution_count": 5
        }
      ]
    },
    {
      "cell_type": "code",
      "metadata": {
        "colab": {
          "base_uri": "https://localhost:8080/"
        },
        "id": "LFynxXnsYzTh",
        "outputId": "ec4ba0e2-5612-4340-8e82-780c23596cb8"
      },
      "source": [
        "a**2"
      ],
      "execution_count": 6,
      "outputs": [
        {
          "output_type": "execute_result",
          "data": {
            "text/plain": [
              "<tf.Tensor: shape=(2, 2), dtype=float32, numpy=\n",
              "array([[ 1.,  4.],\n",
              "       [ 9., 16.]], dtype=float32)>"
            ]
          },
          "metadata": {
            "tags": []
          },
          "execution_count": 6
        }
      ]
    },
    {
      "cell_type": "code",
      "metadata": {
        "colab": {
          "base_uri": "https://localhost:8080/"
        },
        "id": "tySGo1ooY0wZ",
        "outputId": "49d694be-c6df-413f-c416-684b2f185997"
      },
      "source": [
        "a%3"
      ],
      "execution_count": 7,
      "outputs": [
        {
          "output_type": "execute_result",
          "data": {
            "text/plain": [
              "<tf.Tensor: shape=(2, 2), dtype=float32, numpy=\n",
              "array([[ 1.,  2.],\n",
              "       [-0.,  1.]], dtype=float32)>"
            ]
          },
          "metadata": {
            "tags": []
          },
          "execution_count": 7
        }
      ]
    },
    {
      "cell_type": "code",
      "metadata": {
        "colab": {
          "base_uri": "https://localhost:8080/"
        },
        "id": "1JKOU6RUY21B",
        "outputId": "a39a1264-acca-487d-e116-1a1265de7091"
      },
      "source": [
        "a//3"
      ],
      "execution_count": 8,
      "outputs": [
        {
          "output_type": "execute_result",
          "data": {
            "text/plain": [
              "<tf.Tensor: shape=(2, 2), dtype=float32, numpy=\n",
              "array([[ 0.,  0.],\n",
              "       [-1.,  1.]], dtype=float32)>"
            ]
          },
          "metadata": {
            "tags": []
          },
          "execution_count": 8
        }
      ]
    },
    {
      "cell_type": "code",
      "metadata": {
        "colab": {
          "base_uri": "https://localhost:8080/"
        },
        "id": "-iUPdffGY6HB",
        "outputId": "c3164442-928a-42b6-909e-f36dcfd61e4e"
      },
      "source": [
        "(a>=2) | (a<=3)"
      ],
      "execution_count": 9,
      "outputs": [
        {
          "output_type": "execute_result",
          "data": {
            "text/plain": [
              "<tf.Tensor: shape=(2, 2), dtype=bool, numpy=\n",
              "array([[ True,  True],\n",
              "       [ True,  True]])>"
            ]
          },
          "metadata": {
            "tags": []
          },
          "execution_count": 9
        }
      ]
    },
    {
      "cell_type": "code",
      "metadata": {
        "colab": {
          "base_uri": "https://localhost:8080/"
        },
        "id": "p0xWhgPfY-gx",
        "outputId": "73f0b7e9-6a19-4eeb-8da1-5f8143f5da7e"
      },
      "source": [
        "a==5"
      ],
      "execution_count": 10,
      "outputs": [
        {
          "output_type": "execute_result",
          "data": {
            "text/plain": [
              "<tf.Tensor: shape=(2, 2), dtype=bool, numpy=\n",
              "array([[False, False],\n",
              "       [False, False]])>"
            ]
          },
          "metadata": {
            "tags": []
          },
          "execution_count": 10
        }
      ]
    },
    {
      "cell_type": "code",
      "metadata": {
        "colab": {
          "base_uri": "https://localhost:8080/"
        },
        "id": "BBEemftrZAXh",
        "outputId": "30d7df57-9e9e-4f0f-f031-058aace4973f"
      },
      "source": [
        "tf.sqrt(a)"
      ],
      "execution_count": 11,
      "outputs": [
        {
          "output_type": "execute_result",
          "data": {
            "text/plain": [
              "<tf.Tensor: shape=(2, 2), dtype=float32, numpy=\n",
              "array([[1.       , 1.4142135],\n",
              "       [      nan, 2.       ]], dtype=float32)>"
            ]
          },
          "metadata": {
            "tags": []
          },
          "execution_count": 11
        }
      ]
    },
    {
      "cell_type": "code",
      "metadata": {
        "colab": {
          "base_uri": "https://localhost:8080/"
        },
        "id": "cxwuoOdCZCOR",
        "outputId": "0a000db5-1643-4e09-e4a9-be8dd65f1b4f"
      },
      "source": [
        "a = tf.constant([1.0,8.0])\r\n",
        "b = tf.constant([5.0,6.0])\r\n",
        "c = tf.constant([6.0,7.0])\r\n",
        "\r\n",
        "tf.add_n([a,b,c])"
      ],
      "execution_count": 12,
      "outputs": [
        {
          "output_type": "execute_result",
          "data": {
            "text/plain": [
              "<tf.Tensor: shape=(2,), dtype=float32, numpy=array([12., 21.], dtype=float32)>"
            ]
          },
          "metadata": {
            "tags": []
          },
          "execution_count": 12
        }
      ]
    },
    {
      "cell_type": "code",
      "metadata": {
        "colab": {
          "base_uri": "https://localhost:8080/"
        },
        "id": "8krZodstZXN9",
        "outputId": "e24d620b-62ca-4f5b-cac3-7b1dad69c23b"
      },
      "source": [
        "tf.print(tf.maximum(a,b))"
      ],
      "execution_count": 14,
      "outputs": [
        {
          "output_type": "stream",
          "text": [
            "[5 8]\n"
          ],
          "name": "stdout"
        }
      ]
    },
    {
      "cell_type": "code",
      "metadata": {
        "colab": {
          "base_uri": "https://localhost:8080/"
        },
        "id": "5jo60NuQZb0B",
        "outputId": "005fee46-2e14-4e2c-9aad-7e072f778466"
      },
      "source": [
        "#clip value\r\n",
        "x = tf.constant([0.9, -0.8, 100.0, -20.0, 0.7])\r\n",
        "y = tf.clip_by_value(x, clip_value_min=-1, clip_value_max=1)\r\n",
        "z = tf.clip_by_norm(x, clip_norm=3)\r\n",
        "tf.print(y)\r\n",
        "tf.print(z)"
      ],
      "execution_count": 15,
      "outputs": [
        {
          "output_type": "stream",
          "text": [
            "[0.9 -0.8 1 -1 0.7]\n",
            "[0.0264732055 -0.0235317405 2.94146752 -0.588293493 0.0205902718]\n"
          ],
          "name": "stdout"
        }
      ]
    },
    {
      "cell_type": "markdown",
      "metadata": {
        "id": "JBxNjV0AZxda"
      },
      "source": [
        "**2. Vector Operation**\r\n",
        "\r\n",
        "Vector operation manipulate along one specific axis. It projects one vector to a scalar or another vector. Many names of vector operator starts with \"reduce\"."
      ]
    },
    {
      "cell_type": "code",
      "metadata": {
        "colab": {
          "base_uri": "https://localhost:8080/"
        },
        "id": "wlRfQW7PZ_pa",
        "outputId": "432f4946-0ac2-4760-bc61-85b7a1ffd232"
      },
      "source": [
        "a = tf.range(1,10)\r\n",
        "a"
      ],
      "execution_count": 17,
      "outputs": [
        {
          "output_type": "execute_result",
          "data": {
            "text/plain": [
              "<tf.Tensor: shape=(9,), dtype=int32, numpy=array([1, 2, 3, 4, 5, 6, 7, 8, 9], dtype=int32)>"
            ]
          },
          "metadata": {
            "tags": []
          },
          "execution_count": 17
        }
      ]
    },
    {
      "cell_type": "code",
      "metadata": {
        "colab": {
          "base_uri": "https://localhost:8080/"
        },
        "id": "oscBRFSwaAxq",
        "outputId": "f74a8ef0-221e-4653-86e2-ccac375146b0"
      },
      "source": [
        "tf.print(tf.reduce_sum(a))\r\n",
        "tf.print(tf.reduce_mean(a))\r\n",
        "tf.print(tf.reduce_max(a))\r\n",
        "tf.print(tf.reduce_min(a))\r\n",
        "tf.print(tf.reduce_prod(a))"
      ],
      "execution_count": 18,
      "outputs": [
        {
          "output_type": "stream",
          "text": [
            "45\n",
            "5\n",
            "9\n",
            "1\n",
            "362880\n"
          ],
          "name": "stdout"
        }
      ]
    },
    {
      "cell_type": "code",
      "metadata": {
        "colab": {
          "base_uri": "https://localhost:8080/"
        },
        "id": "Ha7Q6rseaKOB",
        "outputId": "6ccf8e9a-3f64-48a1-a4e2-ecd2e73e9438"
      },
      "source": [
        "#reduce along the speicifc dim\r\n",
        "\r\n",
        "b = tf.reshape(a, (3,3))\r\n",
        "b"
      ],
      "execution_count": 19,
      "outputs": [
        {
          "output_type": "execute_result",
          "data": {
            "text/plain": [
              "<tf.Tensor: shape=(3, 3), dtype=int32, numpy=\n",
              "array([[1, 2, 3],\n",
              "       [4, 5, 6],\n",
              "       [7, 8, 9]], dtype=int32)>"
            ]
          },
          "metadata": {
            "tags": []
          },
          "execution_count": 19
        }
      ]
    },
    {
      "cell_type": "code",
      "metadata": {
        "colab": {
          "base_uri": "https://localhost:8080/"
        },
        "id": "Ykd5RXo-aSiK",
        "outputId": "882ef0bd-8205-43ae-f79f-e7cd3d9dbe1b"
      },
      "source": [
        "tf.print(tf.reduce_sum(b, axis=1, keepdims=True))\r\n",
        "tf.print(tf.reduce_sum(b, axis=0, keepdims=True))"
      ],
      "execution_count": 20,
      "outputs": [
        {
          "output_type": "stream",
          "text": [
            "[[6]\n",
            " [15]\n",
            " [24]]\n",
            "[[12 15 18]]\n"
          ],
          "name": "stdout"
        }
      ]
    },
    {
      "cell_type": "code",
      "metadata": {
        "colab": {
          "base_uri": "https://localhost:8080/"
        },
        "id": "mU5q_rskaZui",
        "outputId": "291fcc99-a942-4b73-b528-3baf12941454"
      },
      "source": [
        "# reduce for bool type\r\n",
        "p = tf.constant([True, False, False])\r\n",
        "q = tf.constant([False, False, True])\r\n",
        "\r\n",
        "tf.print(tf.reduce_all(p))\r\n",
        "tf.print(tf.reduce_any(p))"
      ],
      "execution_count": 21,
      "outputs": [
        {
          "output_type": "stream",
          "text": [
            "0\n",
            "1\n"
          ],
          "name": "stdout"
        }
      ]
    },
    {
      "cell_type": "code",
      "metadata": {
        "colab": {
          "base_uri": "https://localhost:8080/"
        },
        "id": "csWR9JmBaqnv",
        "outputId": "bedaa1d1-acf6-45f5-cc92-6f332213796f"
      },
      "source": [
        "a = tf.range(1,10)\r\n",
        " \r\n",
        "tf.print(tf.math.cumsum(a))\r\n",
        "tf.print(tf.math.cumprod(a))"
      ],
      "execution_count": 22,
      "outputs": [
        {
          "output_type": "stream",
          "text": [
            "[1 3 6 ... 28 36 45]\n",
            "[1 2 6 ... 5040 40320 362880]\n"
          ],
          "name": "stdout"
        }
      ]
    },
    {
      "cell_type": "code",
      "metadata": {
        "colab": {
          "base_uri": "https://localhost:8080/"
        },
        "id": "F_AdE-F3a0PZ",
        "outputId": "7a46b516-43f9-42fd-b455-1ba29c945596"
      },
      "source": [
        "a = tf.range(1,10)\r\n",
        "# get the index of the max value in the argument\r\n",
        "tf.print(tf.argmax(a))\r\n",
        "tf.print(tf.argmin(a))"
      ],
      "execution_count": 23,
      "outputs": [
        {
          "output_type": "stream",
          "text": [
            "8\n",
            "0\n"
          ],
          "name": "stdout"
        }
      ]
    },
    {
      "cell_type": "code",
      "metadata": {
        "colab": {
          "base_uri": "https://localhost:8080/"
        },
        "id": "r_VPqgBKbAax",
        "outputId": "cabc015a-5655-4d4c-c7b4-884921f5e86f"
      },
      "source": [
        "# sort the elemens in the tensor using tf.math.top_k\r\n",
        "\r\n",
        "a = tf.constant([1,3,6,5,4,8])\r\n",
        "\r\n",
        "value, indices = tf.math.top_k(a, 3, sorted=True)\r\n",
        "tf.print(value)\r\n",
        "tf.print(indices)"
      ],
      "execution_count": 24,
      "outputs": [
        {
          "output_type": "stream",
          "text": [
            "[8 6 5]\n",
            "[5 2 3]\n"
          ],
          "name": "stdout"
        }
      ]
    },
    {
      "cell_type": "markdown",
      "metadata": {
        "id": "jhU0qDm6bbqh"
      },
      "source": [
        "**3. Matrix Operation**\r\n",
        "\r\n",
        "Matrix must be two-dimensional. Something such as tf.constant([1,2,3]) is not a matrix.\r\n",
        "\r\n",
        "Matrix operation includes matrix multiply, transpose, inverse, trace, norm, determinant, eigenvalue, decomposition, etc.\r\n",
        "\r\n",
        "Most of the matrix operations are in the tf.linalg except for some popular operations."
      ]
    },
    {
      "cell_type": "code",
      "metadata": {
        "colab": {
          "base_uri": "https://localhost:8080/"
        },
        "id": "ISvDw_GnboEh",
        "outputId": "fa0c9f09-ea54-44f3-b706-f7b951bbdf8c"
      },
      "source": [
        "# Matrix multiplication\r\n",
        "a = tf.constant([[1,2],[3,4]])\r\n",
        "b = tf.constant([[2,0],[0,2]])\r\n",
        "\r\n",
        "a@b # same as tf.matmul(a,b)"
      ],
      "execution_count": 25,
      "outputs": [
        {
          "output_type": "execute_result",
          "data": {
            "text/plain": [
              "<tf.Tensor: shape=(2, 2), dtype=int32, numpy=\n",
              "array([[2, 4],\n",
              "       [6, 8]], dtype=int32)>"
            ]
          },
          "metadata": {
            "tags": []
          },
          "execution_count": 25
        }
      ]
    },
    {
      "cell_type": "code",
      "metadata": {
        "colab": {
          "base_uri": "https://localhost:8080/"
        },
        "id": "2kn7ugN5buyZ",
        "outputId": "d10bfa59-751f-4869-9e44-a44abd86c443"
      },
      "source": [
        "a = tf.constant([[1.0, 2], [3,4]])\r\n",
        "tf.transpose(a)"
      ],
      "execution_count": 26,
      "outputs": [
        {
          "output_type": "execute_result",
          "data": {
            "text/plain": [
              "<tf.Tensor: shape=(2, 2), dtype=float32, numpy=\n",
              "array([[1., 3.],\n",
              "       [2., 4.]], dtype=float32)>"
            ]
          },
          "metadata": {
            "tags": []
          },
          "execution_count": 26
        }
      ]
    },
    {
      "cell_type": "code",
      "metadata": {
        "colab": {
          "base_uri": "https://localhost:8080/"
        },
        "id": "mJHk-aH9djQR",
        "outputId": "7dce4836-a77b-4880-86f0-a86b75d87038"
      },
      "source": [
        "tf.linalg.inv(a)"
      ],
      "execution_count": 27,
      "outputs": [
        {
          "output_type": "execute_result",
          "data": {
            "text/plain": [
              "<tf.Tensor: shape=(2, 2), dtype=float32, numpy=\n",
              "array([[-2.0000002 ,  1.0000001 ],\n",
              "       [ 1.5000001 , -0.50000006]], dtype=float32)>"
            ]
          },
          "metadata": {
            "tags": []
          },
          "execution_count": 27
        }
      ]
    },
    {
      "cell_type": "code",
      "metadata": {
        "colab": {
          "base_uri": "https://localhost:8080/"
        },
        "id": "BRPH1iQ6dmuJ",
        "outputId": "0a632517-4dec-463d-f60c-5d3f0313d883"
      },
      "source": [
        "#matrix trace\r\n",
        "\r\n",
        "tf.linalg.trace(a)"
      ],
      "execution_count": 28,
      "outputs": [
        {
          "output_type": "execute_result",
          "data": {
            "text/plain": [
              "<tf.Tensor: shape=(), dtype=float32, numpy=5.0>"
            ]
          },
          "metadata": {
            "tags": []
          },
          "execution_count": 28
        }
      ]
    },
    {
      "cell_type": "code",
      "metadata": {
        "colab": {
          "base_uri": "https://localhost:8080/"
        },
        "id": "JzFUfZc2dqGx",
        "outputId": "ae344b96-d095-43b9-ce5b-fbfff29a3f48"
      },
      "source": [
        "tf.linalg.det(a)"
      ],
      "execution_count": 29,
      "outputs": [
        {
          "output_type": "execute_result",
          "data": {
            "text/plain": [
              "<tf.Tensor: shape=(), dtype=float32, numpy=-2.0>"
            ]
          },
          "metadata": {
            "tags": []
          },
          "execution_count": 29
        }
      ]
    },
    {
      "cell_type": "code",
      "metadata": {
        "colab": {
          "base_uri": "https://localhost:8080/"
        },
        "id": "6GdZjkd8dsNx",
        "outputId": "25ee749c-14e7-4ab4-d3f4-428958894025"
      },
      "source": [
        "tf.linalg.eigvals(a)"
      ],
      "execution_count": 30,
      "outputs": [
        {
          "output_type": "execute_result",
          "data": {
            "text/plain": [
              "<tf.Tensor: shape=(2,), dtype=complex64, numpy=array([-0.37228122+0.j,  5.372281  +0.j], dtype=complex64)>"
            ]
          },
          "metadata": {
            "tags": []
          },
          "execution_count": 30
        }
      ]
    },
    {
      "cell_type": "code",
      "metadata": {
        "colab": {
          "base_uri": "https://localhost:8080/"
        },
        "id": "mlAiboT3dwGa",
        "outputId": "e4a15cfd-208f-47f8-8b06-4fd9bc4ad2e6"
      },
      "source": [
        "# SVD decomposition\r\n",
        "a  = tf.constant([[1.0,2.0],[3.0,4.0],[5.0,6.0]], dtype = tf.float32)\r\n",
        "\r\n",
        "\r\n",
        "s, u, v = tf.linalg.svd(a)\r\n",
        "\r\n",
        "tf.print(s)\r\n",
        "tf.print(u)\r\n",
        "tf.print(v)\r\n",
        "\r\n",
        "tf.print(u@tf.linalg.diag(s)@tf.transpose(v))"
      ],
      "execution_count": 32,
      "outputs": [
        {
          "output_type": "stream",
          "text": [
            "[9.52552 0.514300048]\n",
            "[[0.229847804 -0.883461118]\n",
            " [0.524744928 -0.240782872]\n",
            " [0.819642 0.401896209]]\n",
            "[[0.619629562 0.784894466]\n",
            " [0.784894466 -0.619629562]]\n",
            "[[1.00000155 2.00000095]\n",
            " [3.00000167 4.00000191]\n",
            " [5.00000191 6.00000191]]\n"
          ],
          "name": "stdout"
        }
      ]
    },
    {
      "cell_type": "markdown",
      "metadata": {
        "id": "WUGaDIFdeCTJ"
      },
      "source": [
        "**4. Broadcasting Mechanism**\r\n",
        "\r\n",
        "\r\n",
        "The rules of broadcasting in TensorFlow is the same as numpy:\r\n",
        "\r\n",
        "If two tensors are different in rank, expand the tensor with lower rank.\r\n",
        "If two tensors has the same length along certain dimension, or one of the tensors has length 1 along certain dimension, then these two tensors are compatible along this dimension.\r\n",
        "Two tensors that are compatible along all dimensions are able to broadcast.\r\n",
        "After broadcasting, the length of each dimension equals to the larger one among two tensors.\r\n",
        "When a tensor has length = 1 along any dimension while the length of corresponding dimension of the other tensor > 1, in the broadcast result, this only element is jusk like been duplicated along this dimension.\r\n",
        "tf.broadcast_to expand the dimension of tensor explicitly."
      ]
    },
    {
      "cell_type": "code",
      "metadata": {
        "id": "J-SS4h27eJMy"
      },
      "source": [
        "a = tf.constant([1,2,3])\r\n",
        "b = tf.constant([[0,0,0],[1,1,1],[2,2,2]])"
      ],
      "execution_count": 33,
      "outputs": []
    },
    {
      "cell_type": "code",
      "metadata": {
        "colab": {
          "base_uri": "https://localhost:8080/"
        },
        "id": "_PKyyH-YeRIZ",
        "outputId": "8223b120-495e-4a97-962b-311f978c4e80"
      },
      "source": [
        "b+a"
      ],
      "execution_count": 34,
      "outputs": [
        {
          "output_type": "execute_result",
          "data": {
            "text/plain": [
              "<tf.Tensor: shape=(3, 3), dtype=int32, numpy=\n",
              "array([[1, 2, 3],\n",
              "       [2, 3, 4],\n",
              "       [3, 4, 5]], dtype=int32)>"
            ]
          },
          "metadata": {
            "tags": []
          },
          "execution_count": 34
        }
      ]
    },
    {
      "cell_type": "code",
      "metadata": {
        "colab": {
          "base_uri": "https://localhost:8080/"
        },
        "id": "gBG7ctKeeSNR",
        "outputId": "3fd211c3-ef03-4d94-99f4-76e5e8af5fd9"
      },
      "source": [
        "tf.broadcast_to(a, b.shape)"
      ],
      "execution_count": 35,
      "outputs": [
        {
          "output_type": "execute_result",
          "data": {
            "text/plain": [
              "<tf.Tensor: shape=(3, 3), dtype=int32, numpy=\n",
              "array([[1, 2, 3],\n",
              "       [1, 2, 3],\n",
              "       [1, 2, 3]], dtype=int32)>"
            ]
          },
          "metadata": {
            "tags": []
          },
          "execution_count": 35
        }
      ]
    },
    {
      "cell_type": "code",
      "metadata": {
        "colab": {
          "base_uri": "https://localhost:8080/"
        },
        "id": "BU26AnrIebrJ",
        "outputId": "14bb8fc4-0435-4a35-dba6-b4b8d9c0523c"
      },
      "source": [
        "tf.broadcast_static_shape(a.shape, b.shape)"
      ],
      "execution_count": 36,
      "outputs": [
        {
          "output_type": "execute_result",
          "data": {
            "text/plain": [
              "TensorShape([3, 3])"
            ]
          },
          "metadata": {
            "tags": []
          },
          "execution_count": 36
        }
      ]
    },
    {
      "cell_type": "code",
      "metadata": {
        "colab": {
          "base_uri": "https://localhost:8080/"
        },
        "id": "gGjeCONVej9Q",
        "outputId": "8c6f7a4d-5e17-40fd-c103-66d523a860f0"
      },
      "source": [
        "c = tf.constant([1,2,3])\r\n",
        "d = tf.constant([[1],[2],[3]])\r\n",
        "\r\n",
        "tf.broadcast_dynamic_shape(tf.shape(c), tf.shape(d))"
      ],
      "execution_count": 37,
      "outputs": [
        {
          "output_type": "execute_result",
          "data": {
            "text/plain": [
              "<tf.Tensor: shape=(2,), dtype=int32, numpy=array([3, 3], dtype=int32)>"
            ]
          },
          "metadata": {
            "tags": []
          },
          "execution_count": 37
        }
      ]
    },
    {
      "cell_type": "code",
      "metadata": {
        "colab": {
          "base_uri": "https://localhost:8080/"
        },
        "id": "yOjvZAnweu7R",
        "outputId": "d86a9f58-485b-4fd9-b610-59fde1133f53"
      },
      "source": [
        "c+d"
      ],
      "execution_count": 38,
      "outputs": [
        {
          "output_type": "execute_result",
          "data": {
            "text/plain": [
              "<tf.Tensor: shape=(3, 3), dtype=int32, numpy=\n",
              "array([[2, 3, 4],\n",
              "       [3, 4, 5],\n",
              "       [4, 5, 6]], dtype=int32)>"
            ]
          },
          "metadata": {
            "tags": []
          },
          "execution_count": 38
        }
      ]
    },
    {
      "cell_type": "code",
      "metadata": {
        "id": "o5HNPjjBezh7"
      },
      "source": [
        ""
      ],
      "execution_count": null,
      "outputs": []
    }
  ]
}