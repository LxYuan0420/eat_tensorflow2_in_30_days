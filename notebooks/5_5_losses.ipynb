{
  "nbformat": 4,
  "nbformat_minor": 0,
  "metadata": {
    "colab": {
      "name": "5-5 losses.ipynb",
      "provenance": [],
      "collapsed_sections": [],
      "authorship_tag": "ABX9TyPHf5mqe+VqK6LhLTljhv3h",
      "include_colab_link": true
    },
    "kernelspec": {
      "name": "python3",
      "display_name": "Python 3"
    }
  },
  "cells": [
    {
      "cell_type": "markdown",
      "metadata": {
        "id": "view-in-github",
        "colab_type": "text"
      },
      "source": [
        "<a href=\"https://colab.research.google.com/github/LxYuan0420/eat_tensorflow2_in_30_days/blob/master/notebooks/5_5_losses.ipynb\" target=\"_parent\"><img src=\"https://colab.research.google.com/assets/colab-badge.svg\" alt=\"Open In Colab\"/></a>"
      ]
    },
    {
      "cell_type": "markdown",
      "metadata": {
        "id": "OXs9YyMpgjoZ"
      },
      "source": [
        "**5-5 losses**\r\n",
        "\r\n",
        "In general, the target function in supervised learning consists of loss function and regularization term. (Target = Loss + Regularization)\r\n",
        "\r\n",
        "For the keras model, the regularization term of the target function is usually designated in each layer, such as using `kernel_regularizer` and `bias_regularizer` parameters in `Dense` layer to sepecify using l1 or l2 norm. On the other hand, `kernel_constraint` and `bias_constraint` parameters can limit the range of the weights, which is also a method of regularization.\r\n",
        "\r\n",
        "Loss function is designated during the compilation of the model. For the regression models, the most popular loss function is the mean squared error `mean_squared_error`.\r\n",
        "\r\n",
        "For binary classification model, the most popular loss function is binary cross entropy `binary_crossentropy`.\r\n",
        "\r\n",
        "For multiple classification model, when the labels are one-hot encoded, we should use categorical cross entropy `categorical_crossentropy` as loss function; for the category with ordinal encoding, the sparse categorical cross entropy `sparse_categorical_crossentropy` should be used as the loss funcion.\r\n",
        "\r\n",
        "We may define customized loss function when necessary. The customzed loss function requires two tensors `y_true` and `y_pred` as input,and it output a scalar as the value of the caluclated loss function."
      ]
    },
    {
      "cell_type": "code",
      "metadata": {
        "id": "Y9rnUS3ggv9l"
      },
      "source": [
        "import numpy as np\r\n",
        "import pandas as pd\r\n",
        "import tensorflow as tf"
      ],
      "execution_count": 1,
      "outputs": []
    },
    {
      "cell_type": "markdown",
      "metadata": {
        "id": "i531YPNDgzOr"
      },
      "source": [
        "**1. Loss Function and Regularization Term**\r\n"
      ]
    },
    {
      "cell_type": "code",
      "metadata": {
        "colab": {
          "base_uri": "https://localhost:8080/"
        },
        "id": "ThvXV2JvgyV7",
        "outputId": "b3bc866d-4e2a-4a25-e1f3-988756c00e5c"
      },
      "source": [
        "model = tf.keras.models.Sequential()\r\n",
        "\r\n",
        "model.add(tf.keras.layers.Dense(64, input_dim=64,\r\n",
        "                                kernel_regularizer=tf.keras.regularizers.l2(0.01),\r\n",
        "                                activity_regularizer=tf.keras.regularizers.l1(0.01),\r\n",
        "                                kernel_constraint=tf.keras.constraints.MaxNorm(max_value=2, axis=0)))\r\n",
        "model.add(tf.keras.layers.Dense(10,\r\n",
        "                                kernel_regularizer=tf.keras.regularizers.l1_l2(0.01, 0.01),\r\n",
        "                                activation=\"sigmoid\"))\r\n",
        "\r\n",
        "model.compile(optimizer='rmsprop',\r\n",
        "              loss=\"binary_crossentropty\",\r\n",
        "              metrics=['AUC'])\r\n",
        "\r\n",
        "model.summary()"
      ],
      "execution_count": 2,
      "outputs": [
        {
          "output_type": "stream",
          "text": [
            "Model: \"sequential\"\n",
            "_________________________________________________________________\n",
            "Layer (type)                 Output Shape              Param #   \n",
            "=================================================================\n",
            "dense (Dense)                (None, 64)                4160      \n",
            "_________________________________________________________________\n",
            "dense_1 (Dense)              (None, 10)                650       \n",
            "=================================================================\n",
            "Total params: 4,810\n",
            "Trainable params: 4,810\n",
            "Non-trainable params: 0\n",
            "_________________________________________________________________\n"
          ],
          "name": "stdout"
        }
      ]
    },
    {
      "cell_type": "markdown",
      "metadata": {
        "id": "ha76D15-iV_O"
      },
      "source": [
        "**2. Pre-defined Loss Function**\r\n",
        "\r\n",
        "There are two types of implementation of the pre-defined loss function: class-type or function-type.\r\n",
        "\r\n",
        "e.g. CategoricalCrossentropy and categorical_crossentropy are both categorical cross entropy; the former is the implementation by class, and the latter is the by function.\r\n",
        "\r\n",
        "The most frequently used pre-defined loss functions are:\r\n",
        "\r\n",
        "- mean_squared_error (Mean Squared Error, for regression, dubbed as \"mse\", class-type and function-type implementations are MeanSquaredError and MSE, respectively)\r\n",
        "\r\n",
        "- mean_absolute_error (Mean Absolute Error, for regression, dubbed as \"mae\", class-type and function-type implementations are MeanAbsoluteError and MAE, respectively)\r\n",
        "\r\n",
        "- mean_absolute_percentage_error (Mean Absolute Percentage Error, for regression dubed as \"mape\", class-type and function-type implementations are MeanAbsolutePercentageError and MAPE, respectively)\r\n",
        "\r\n",
        "- Huber (Huber Loss，for regression, performance is between \"mse\" and \"mae\", robust to outliers, thus has advantages comparint to \"mse\"; implemented only in class)\r\n",
        "\r\n",
        "- binary_crossentropy (Binary Cross Entropy, for binary classification; the class-type implementation is BinaryCrossentropy)\r\n",
        "\r\n",
        "- categorical_crossentropy (Categorical Cross Entropy, for multiple classification, requires one-hot encoding for the label; the class-type implementation is CategoricalCrossentropy)\r\n",
        "\r\n",
        "- sparse_categorical_crossentropy (Sparse Categorical Cross Entropy, used for multiple classification, requires ordinal encoding; the class-type implementation is SparseCategoricalCrossentropy)\r\n",
        "\r\n",
        "- hinge (Hinge loss function, for binary classification, famous for the application as loss function in Support Vector Machine (SVM); the class-type implementation is Hinge)\r\n",
        "\r\n",
        "- kld (Kullback-Leibler divergence loss, usually used as the loss function in the expectation maximization (EM) algorithm; it is a measurement of the difference between two probability distributions. The class-type and function-type implementations are KLDivergence and KLD, respectively)\r\n",
        "\r\n",
        "- cosine_similarity (Cosine similarity, for multiple classification; the class-type implementation is CosineSimilarity)\r\n",
        "\r\n",
        "**3. Customized Loss Function**\r\n",
        "\r\n",
        "The customzed loss function requires two tensors y_true and y_pred as input,and it output a scalar as the value of the caluclated loss function.\r\n",
        "\r\n",
        "It is also possible to customize loss function through inheriting from the base class tf.keras.losses.Loss and rewrite the call method to implement the calculation of loss.\r\n",
        "\r\n",
        "Here is an example of customized implementation to the Focal Loss, which is an improvement of binary_crossentropy loss function.\r\n",
        "\r\n",
        "Focal Loss results better comparing to the binary cross entropy, given the condition of unbalanced category and many easy samples in training data.\r\n",
        "\r\n",
        "It has two adjustable parameters，alpha and gamma. The aim of alpha is to decay the weight of negative samples，and gamma to decay the weight of the easy samples.\r\n",
        "\r\n",
        "So the model will then focal its weight on the positive samples and hard samples. This is why the loss is called focal loss.\r\n",
        "\r\n",
        "You may refer to the following article for details of this topic: Understand Focal Loss and GHM in 5 minutes"
      ]
    },
    {
      "cell_type": "code",
      "metadata": {
        "id": "08fQiG0jilHB"
      },
      "source": [
        "def focal_loss(gamma=2.0, alpha=0.75):\r\n",
        "    \r\n",
        "    def focal_loss_fixed(y_true, y_pred):\r\n",
        "        bce = tf.losses.binary_crossentropy(y_true, y_pred)\r\n",
        "        p_t = (y_true * y_pred) + ((1 - y_true) * (1 - y_pred))\r\n",
        "        alpha_factor = y_true * alpha + (1 - y_true) * (1 - alpha)\r\n",
        "        modulating_factor = tf.pow(1.0 - p_t, gamma)\r\n",
        "        loss = tf.reduce_sum(alpha_factor * modulating_factor * bce, axis=-1)\r\n",
        "        return loss\r\n",
        "\r\n",
        "    return focal_loss_fixed"
      ],
      "execution_count": 5,
      "outputs": []
    },
    {
      "cell_type": "code",
      "metadata": {
        "id": "u5Y3s1Byl_Sz"
      },
      "source": [
        "class FocalLoss(tf.keras.losses.Loss):\r\n",
        "\r\n",
        "    def __init__(self, gamma=2.0, alpha=0.75, name=\"focal_loss\"):\r\n",
        "        self.gamma = gamma\r\n",
        "        self.alpha = alpha\r\n",
        "\r\n",
        "    def call(self, y_true, y_pred):\r\n",
        "        bce = tf.keras.losses.binary_crossentropy(y_true, y_pred)\r\n",
        "        p_t = (y_true * y_pred) + ((1 - y_true) * (1 - y_pred))\r\n",
        "        alpha_factor = y_true * alpha + (1 - y_true) * (1 - y_pred)\r\n",
        "        modulating_factor = tf.pow(1.0 - p_t, gamma)\r\n",
        "        loss = tf.reduce_sum(alpa_factor * modulating_factor * bce, axis=-1)\r\n",
        "        return loss"
      ],
      "execution_count": 14,
      "outputs": []
    }
  ]
}