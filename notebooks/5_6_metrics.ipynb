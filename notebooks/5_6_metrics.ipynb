{
  "nbformat": 4,
  "nbformat_minor": 0,
  "metadata": {
    "colab": {
      "name": "5-6 metrics.ipynb",
      "provenance": [],
      "collapsed_sections": [],
      "authorship_tag": "ABX9TyMMMKr49MEIpbnyOl5eWacz",
      "include_colab_link": true
    },
    "kernelspec": {
      "name": "python3",
      "display_name": "Python 3"
    }
  },
  "cells": [
    {
      "cell_type": "markdown",
      "metadata": {
        "id": "view-in-github",
        "colab_type": "text"
      },
      "source": [
        "<a href=\"https://colab.research.google.com/github/LxYuan0420/eat_tensorflow2_in_30_days/blob/master/notebooks/5_6_metrics.ipynb\" target=\"_parent\"><img src=\"https://colab.research.google.com/assets/colab-badge.svg\" alt=\"Open In Colab\"/></a>"
      ]
    },
    {
      "cell_type": "markdown",
      "metadata": {
        "id": "o47TftPi46sj"
      },
      "source": [
        "**5-6 metrics**\r\n",
        "\r\n",
        "Besides being used as optimization target during training, loss function also acts as an evaluation remark of model performance. However, in general, the performance of the model is evaluated using other terms.\r\n",
        "\r\n",
        "This is evaluation metrics. Loss function could be used as metrics. MAE, MSE, CategoricalCrossentropy are several most common metrics.\r\n",
        "\r\n",
        "However, metrics is not necessarily able to act as loss function, such as AUC, Accuracy, Precision. This is because metrics is not required to be continuously differentiable, while this is a general requirement for the loss function.\r\n",
        "\r\n",
        "Multiple metrics could be specified through list during the compilation of the model.\r\n",
        "\r\n",
        "Metrics could be customized if necessary.\r\n",
        "\r\n",
        "The customzed metrics requires two tensors y_true and y_pred as input,and it output a scalar as the value of the caluclated metrics.\r\n",
        "\r\n",
        "It is also possible to customize metrics through inheriting from the base class tf.keras.metrics.Metric and rewrite the init, update_state, and result methods to implement the calculation of metrics.\r\n",
        "\r\n",
        "Usually the training are performed batch by batch, while metrics could be calculated only after a whole epoch, thus the class-type metrics is more popular. We need to write initialization method to create the necessary middle variables (they are related to the resulting metrics), write the update_state method to update the states of these middle variables after each batch, and write the result method for the final output.\r\n",
        "\r\n",
        "If the metrics is written as a function, it is only possible to use the avaraged metrics among all the batches in the epoch as the overal metrics. This usually deviates from the result calculated by all training steps in the epoch.\r\n",
        "\r\n",
        "**1. Most Frequently Used Pre-defined Metrics**\r\n",
        "\r\n",
        "- MeanSquaredError (Mean Squared Error, used for regression, dubbed as \"MSE\", function name mse)\r\n",
        "\r\n",
        "- MeanAbsoluteError (Mean Absolute Error, used for regression, dubbed as \"MAE\", function name mae)\r\n",
        "\r\n",
        "- MeanAbsolutePercentageError (Mean Absolute Percentage Error, used for regression, dubbed as \"MAPE\", function name mape)\r\n",
        "\r\n",
        "- RootMeanSquaredError (Root-Mean-Squared-Error, used for regression.)\r\n",
        "\r\n",
        "- Accuracy (Accuracy，used for classification, could be represented as a string \"Accuracy\"; Accuracy=(TP+TN)/(TP+TN+FP+FN); requires ordinal encoding for the inputs y_true and y_pred.)\r\n",
        "\r\n",
        "- Precision (Precision, used for binary classification;; Precision = TP/(TP+FP))\r\n",
        "\r\n",
        "- Recall (Recalling rate, used for binary classification; Recall = TP/(TP+FN))\r\n",
        "\r\n",
        "- TruePositives (True positives, used for binary classification.)\r\n",
        "\r\n",
        "- TrueNegatives (True negatives, used for binary classification.)\r\n",
        "\r\n",
        "- FalsePositives (False positives, used for binary classification.)\r\n",
        "\r\n",
        "- FalseNegatives (False negatives, used for binary classification.)\r\n",
        "\r\n",
        "- AUC (Area Under the Curve, represents the area under the ROC curve (TPR vs FPR); it is used for binary classification. An intuitive explanation: pick a positive sample and a negative sample, AUC is the possibility that the prediction of positive sample larger than the prediction of the negative sample.)\r\n",
        "\r\n",
        "- CategoricalAccuracy (Catigorical Accuracy, same as Accuracy except requiring one-hot encoding for the input label y_true.)\r\n",
        "\r\n",
        "- SparseCategoricalAccuracy (Sparse Categorical Accuracy, same as Accuracy except requiring ordinal encoding for the label y_true.)\r\n",
        "\r\n",
        "- MeanIoU (Intersection-Over-Union, ususally for image segmentation.)\r\n",
        "\r\n",
        "- TopKCategoricalAccuracy (TopK accuracy for multiple classification, requires one-hot encoding for the input label y_true)\r\n",
        "\r\n",
        "- SparseTopKCategoricalAccuracy (TopK accuracy for multiple classification, requires ordinary encoding for the input label y_true)\r\n",
        "\r\n",
        "- Mean (Mean value)\r\n",
        "\r\n",
        "- Sum (Summation)\r\n",
        "\r\n",
        "**2. Customized Metrics**\r\n",
        "\r\n",
        "Here we use the K-S (Kolmogorov-Smirnov) statistic, which is frequently used in financial risk management, as an example for the customized metrics.\r\n",
        "\r\n",
        "K-S statistic is used for binary classification problem; KS = max(TPR - FPR), where TPR = TP / (TP + FN), FPR = FP / (FP + TN)\r\n",
        "\r\n",
        "TPR curve is the cumulative distribution function (CDF) of the positive samples, while FPR curve is the CDF of the negative samples.\r\n",
        "\r\n",
        "K-S statistic is the maximum of the difference between the CDF of positive and negative samples."
      ]
    },
    {
      "cell_type": "markdown",
      "metadata": {
        "id": "HVCbtHDI5Q6x"
      },
      "source": [
        "Here we use the K-S (Kolmogorov-Smirnov) statistic, which is frequently used in financial risk management, as an example for the customized metrics.\r\n",
        "\r\n",
        "K-S statistic is used for binary classification problem; KS = max(TPR - FPR), where TPR = TP / (TP + FN), FPR = FP / (FP + TN)\r\n",
        "\r\n",
        "TPR curve is the cumulative distribution function (CDF) of the positive samples, while FPR curve is the CDF of the negative samples.\r\n",
        "\r\n",
        "K-S statistic is the maximum of the difference between the CDF of positive and negative samples."
      ]
    },
    {
      "cell_type": "code",
      "metadata": {
        "id": "Xp_7P9fg5UJI"
      },
      "source": [
        "import numpy as np\r\n",
        "import tensorflow as tf"
      ],
      "execution_count": 1,
      "outputs": []
    },
    {
      "cell_type": "code",
      "metadata": {
        "id": "4WfZ10XC5YXR"
      },
      "source": [
        "@tf.function\r\n",
        "def ks(y_true, y_pred):\r\n",
        "    y_true = tf.reshape(y_true, (-1,))\r\n",
        "    y_pred = tf.reshape(y_pred, (-1,))\r\n",
        "    length = tf.shape(y_true)[0]\r\n",
        "    t = tf.math.top_k(y_pred, k=length, sorted=False)\r\n",
        "    y_pred_sorted = tf.gather(y_pred, t.indices)\r\n",
        "    y_true_sorted = tf.gather(y_true, t.indices)\r\n",
        "    cum_positive_ratio = tf.truediv(\r\n",
        "        tf.cumsum(y_true_sorted),\r\n",
        "        tf.reduce_sum(y_true_sorted)\r\n",
        "    )\r\n",
        "    cum_negative_ratio = tf.truediv(\r\n",
        "        tf.cumsum(1-y_true_sorted),\r\n",
        "        tf.reduce_sum(1-y_true_sorted)\r\n",
        "    )\r\n",
        "    ks_value = tf.reduce_max(tf.abs(cum_positive_ratio - cum_negative_ratio))\r\n",
        "    return ks_value"
      ],
      "execution_count": 4,
      "outputs": []
    },
    {
      "cell_type": "code",
      "metadata": {
        "colab": {
          "base_uri": "https://localhost:8080/"
        },
        "id": "XskqPRVp6K4U",
        "outputId": "d5477e39-cdc6-44a3-949e-d3e9eeb22bc8"
      },
      "source": [
        "y_true = tf.constant([[1],[1],[1],[0],[1],[1],[1],[0],[0],[0],[1],[0],[1],[0]])\r\n",
        "y_pred = tf.constant([[0.6],[0.1],[0.4],[0.5],[0.7],[0.7],[0.7],\r\n",
        "                      [0.4],[0.4],[0.5],[0.8],[0.3],[0.5],[0.3]])\r\n",
        "tf.print(ks(y_true,y_pred))"
      ],
      "execution_count": 5,
      "outputs": [
        {
          "output_type": "stream",
          "text": [
            "0.625\n"
          ],
          "name": "stdout"
        }
      ]
    },
    {
      "cell_type": "code",
      "metadata": {
        "id": "ug7RVUP26NQA"
      },
      "source": [
        "# Customized metrics defined by class\r\n",
        "class KS(tf.keras.metrics.Metric):\r\n",
        "\r\n",
        "    def __init__(self, name='ks', **kwargs):\r\n",
        "        super(KS, self).__init__(name=name, **kwargs)\r\n",
        "        self.true_positives = self.add_weight(name=\"tp\", shape=(101,), initializer=\"zeros\")\r\n",
        "        self.false_positives = self.add_weight(name=\"fp\", shape=(101,), initializer=\"zeros\")\r\n",
        "\r\n",
        "    @tf.function\r\n",
        "    def update_state(self,y_true,y_pred):\r\n",
        "        y_true = tf.cast(tf.reshape(y_true,(-1,)),tf.bool)\r\n",
        "        y_pred = tf.cast(100*tf.reshape(y_pred,(-1,)),tf.int32)\r\n",
        "        \r\n",
        "        for i in tf.range(0,tf.shape(y_true)[0]):\r\n",
        "            if y_true[i]:\r\n",
        "                self.true_positives[y_pred[i]].assign(\r\n",
        "                    self.true_positives[y_pred[i]]+1.0)\r\n",
        "            else:\r\n",
        "                self.false_positives[y_pred[i]].assign(\r\n",
        "                    self.false_positives[y_pred[i]]+1.0)\r\n",
        "        return (self.true_positives,self.false_positives)\r\n",
        "\r\n",
        "    @tf.function\r\n",
        "    def result(self):\r\n",
        "        cum_positive_ratio = tf.truediv(\r\n",
        "            tf.cumsum(self.true_positives),tf.reduce_sum(self.true_positives))\r\n",
        "        cum_negative_ratio = tf.truediv(\r\n",
        "            tf.cumsum(self.false_positives),tf.reduce_sum(self.false_positives))\r\n",
        "        ks_value = tf.reduce_max(tf.abs(cum_positive_ratio - cum_negative_ratio)) \r\n",
        "        return ks_value"
      ],
      "execution_count": 9,
      "outputs": []
    },
    {
      "cell_type": "code",
      "metadata": {
        "colab": {
          "base_uri": "https://localhost:8080/"
        },
        "id": "h0OaEReF9ti8",
        "outputId": "9d17b2ca-d0bf-48d0-fbbb-c45df9fdaa85"
      },
      "source": [
        "y_true = tf.constant([[1],[1],[1],[0],[1],[1],[1],[0],[0],[0],[1],[0],[1],[0]])\r\n",
        "y_pred = tf.constant([[0.6],[0.1],[0.4],[0.5],[0.7],[0.7],\r\n",
        "                      [0.7],[0.4],[0.4],[0.5],[0.8],[0.3],[0.5],[0.3]])\r\n",
        "\r\n",
        "myks = KS()\r\n",
        "myks.update_state(y_true,y_pred)\r\n",
        "tf.print(myks.result())"
      ],
      "execution_count": 10,
      "outputs": [
        {
          "output_type": "stream",
          "text": [
            "0.625\n"
          ],
          "name": "stdout"
        }
      ]
    },
    {
      "cell_type": "code",
      "metadata": {
        "id": "zdAvEsKU9v1I"
      },
      "source": [
        ""
      ],
      "execution_count": null,
      "outputs": []
    }
  ]
}