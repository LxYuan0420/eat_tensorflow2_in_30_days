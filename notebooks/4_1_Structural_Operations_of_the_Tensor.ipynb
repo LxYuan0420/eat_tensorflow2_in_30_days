{
  "nbformat": 4,
  "nbformat_minor": 0,
  "metadata": {
    "colab": {
      "name": "4-1 Structural Operations of the Tensor.ipynb",
      "provenance": [],
      "collapsed_sections": [],
      "authorship_tag": "ABX9TyOar+pcnutk46wPIJUzurN+",
      "include_colab_link": true
    },
    "kernelspec": {
      "name": "python3",
      "display_name": "Python 3"
    }
  },
  "cells": [
    {
      "cell_type": "markdown",
      "metadata": {
        "id": "view-in-github",
        "colab_type": "text"
      },
      "source": [
        "<a href=\"https://colab.research.google.com/github/LxYuan0420/eat_tensorflow2_in_30_days/blob/master/notebooks/4_1_Structural_Operations_of_the_Tensor.ipynb\" target=\"_parent\"><img src=\"https://colab.research.google.com/assets/colab-badge.svg\" alt=\"Open In Colab\"/></a>"
      ]
    },
    {
      "cell_type": "markdown",
      "metadata": {
        "id": "BxUg2GkG918M"
      },
      "source": [
        "**4-1 Structural Operations of the Tensor**\r\n",
        "\r\n",
        "Tensor operation includes structural operation and mathematical operation.\r\n",
        "\r\n",
        "The structural operation includes tensor creation, index slicing, dimension transform, combining & splitting, etc.\r\n",
        "\r\n",
        "The mathematical operation includes scalar operation, vector operation, and matrix operation. We will also introduce the broadcasting mechanism of tensor operation.\r\n",
        "\r\n",
        "This section is about the structural operation of tensor.\r\n",
        "\r\n",
        "**1. Creating Tensor**\r\n",
        "\r\n",
        "Tensor creation is similar to array creation in numpy."
      ]
    },
    {
      "cell_type": "code",
      "metadata": {
        "id": "SdJn2QXj99Ra"
      },
      "source": [
        "import tensorflow as tf\r\n",
        "import numpy as np"
      ],
      "execution_count": 1,
      "outputs": []
    },
    {
      "cell_type": "code",
      "metadata": {
        "colab": {
          "base_uri": "https://localhost:8080/"
        },
        "id": "Za6cGTp9-BzW",
        "outputId": "66c01e07-d540-427f-a054-600dd953d4f2"
      },
      "source": [
        "a = tf.constant([1,2,3], dtype=tf.float32)\r\n",
        "tf.print(a)"
      ],
      "execution_count": 2,
      "outputs": [
        {
          "output_type": "stream",
          "text": [
            "[1 2 3]\n"
          ],
          "name": "stdout"
        }
      ]
    },
    {
      "cell_type": "code",
      "metadata": {
        "colab": {
          "base_uri": "https://localhost:8080/"
        },
        "id": "jLgxANQU-FqM",
        "outputId": "3673bd57-9fd2-46a1-c7ea-7cd4188cb848"
      },
      "source": [
        "b = tf.range(1, 10, delta=2)\r\n",
        "tf.print(b)"
      ],
      "execution_count": 3,
      "outputs": [
        {
          "output_type": "stream",
          "text": [
            "[1 3 5 7 9]\n"
          ],
          "name": "stdout"
        }
      ]
    },
    {
      "cell_type": "code",
      "metadata": {
        "colab": {
          "base_uri": "https://localhost:8080/"
        },
        "id": "Wguc66av-JHd",
        "outputId": "48e9fa6f-9f27-4463-b617-34e96e428de1"
      },
      "source": [
        "c = tf.linspace(0.0, 2*3.14, 100)\r\n",
        "tf.print(c)"
      ],
      "execution_count": 4,
      "outputs": [
        {
          "output_type": "stream",
          "text": [
            "[0 0.0634343475 0.126868695 ... 6.15313148 6.21656609 6.28]\n"
          ],
          "name": "stdout"
        }
      ]
    },
    {
      "cell_type": "code",
      "metadata": {
        "colab": {
          "base_uri": "https://localhost:8080/"
        },
        "id": "PI2PFaJh-Pmj",
        "outputId": "b3626cf3-ffff-4a8c-bea1-92d77e86d94d"
      },
      "source": [
        "d = tf.zeros([3,3])\r\n",
        "tf.print(d)"
      ],
      "execution_count": 5,
      "outputs": [
        {
          "output_type": "stream",
          "text": [
            "[[0 0 0]\n",
            " [0 0 0]\n",
            " [0 0 0]]\n"
          ],
          "name": "stdout"
        }
      ]
    },
    {
      "cell_type": "code",
      "metadata": {
        "colab": {
          "base_uri": "https://localhost:8080/"
        },
        "id": "iSDJA7PX-Sfj",
        "outputId": "957c1cbf-058c-4e21-82c1-edb6ba4bb606"
      },
      "source": [
        "a = tf.ones([3,3])\r\n",
        "b = tf.zeros_like(a, dtype=tf.float32)\r\n",
        "tf.print(a)\r\n",
        "tf.print(b)"
      ],
      "execution_count": 7,
      "outputs": [
        {
          "output_type": "stream",
          "text": [
            "[[1 1 1]\n",
            " [1 1 1]\n",
            " [1 1 1]]\n",
            "[[0 0 0]\n",
            " [0 0 0]\n",
            " [0 0 0]]\n"
          ],
          "name": "stdout"
        }
      ]
    },
    {
      "cell_type": "code",
      "metadata": {
        "colab": {
          "base_uri": "https://localhost:8080/"
        },
        "id": "QkHrRjTW-aid",
        "outputId": "f609ed76-cc19-4f36-f517-cbafafa62e8b"
      },
      "source": [
        "b = tf.fill([3,2], 5)\r\n",
        "tf.print(b)"
      ],
      "execution_count": 8,
      "outputs": [
        {
          "output_type": "stream",
          "text": [
            "[[5 5]\n",
            " [5 5]\n",
            " [5 5]]\n"
          ],
          "name": "stdout"
        }
      ]
    },
    {
      "cell_type": "code",
      "metadata": {
        "colab": {
          "base_uri": "https://localhost:8080/"
        },
        "id": "YicA9QSy-lGc",
        "outputId": "46099b60-d203-4036-921d-af99832d89e9"
      },
      "source": [
        "#radnom numbers with uniform distribution\r\n",
        "tf.random.set_seed(1.0)\r\n",
        "a = tf.random.uniform([5], minval=0, maxval=10)\r\n",
        "tf.print(a)"
      ],
      "execution_count": 9,
      "outputs": [
        {
          "output_type": "stream",
          "text": [
            "[1.65130854 9.01481247 6.30974197 4.34546089 2.9193902]\n"
          ],
          "name": "stdout"
        }
      ]
    },
    {
      "cell_type": "code",
      "metadata": {
        "colab": {
          "base_uri": "https://localhost:8080/"
        },
        "id": "LNPPteKF-tw7",
        "outputId": "ec2f3703-1e74-4cec-bbe6-2e49a2220367"
      },
      "source": [
        "b = tf.random.normal([3,3], mean=0.0, stddev=1.0)\r\n",
        "tf.print(b)"
      ],
      "execution_count": 10,
      "outputs": [
        {
          "output_type": "stream",
          "text": [
            "[[0.403087884 -1.0880208 -0.0630953535]\n",
            " [1.33655667 0.711760104 -0.489286453]\n",
            " [-0.764221311 -1.03724861 -1.25193381]]\n"
          ],
          "name": "stdout"
        }
      ]
    },
    {
      "cell_type": "code",
      "metadata": {
        "colab": {
          "base_uri": "https://localhost:8080/"
        },
        "id": "FUBM2OU--2Fr",
        "outputId": "7b67c2a4-8bcb-47b1-acc8-a2aad7245857"
      },
      "source": [
        "c = tf.random.truncated_normal((5,5), mean=0.0, stddev=1.0, dtype=tf.float32)\r\n",
        "tf.print(c)"
      ],
      "execution_count": 11,
      "outputs": [
        {
          "output_type": "stream",
          "text": [
            "[[-0.457012236 -0.406867266 0.728577733 -0.892977774 -0.369404584]\n",
            " [0.323488563 1.19383323 0.888299048 1.25985599 -1.95951891]\n",
            " [-0.202244401 0.294496894 -0.468728036 1.29494202 1.48142183]\n",
            " [0.0810953453 1.63843894 0.556645 0.977199793 -1.17777884]\n",
            " [1.67368948 0.0647980496 -0.705142677 -0.281972528 0.126546144]]\n"
          ],
          "name": "stdout"
        }
      ]
    },
    {
      "cell_type": "code",
      "metadata": {
        "colab": {
          "base_uri": "https://localhost:8080/"
        },
        "id": "nKYlAGxk--zy",
        "outputId": "28d1f3da-f9d9-4ae4-ae45-e7009690988a"
      },
      "source": [
        "I = tf.eye(3,3)\r\n",
        "tf.print(I)\r\n",
        "tf.print(\" \")\r\n",
        "t = tf.linalg.diag([1,2,3])\r\n",
        "tf.print(t)"
      ],
      "execution_count": 12,
      "outputs": [
        {
          "output_type": "stream",
          "text": [
            "[[1 0 0]\n",
            " [0 1 0]\n",
            " [0 0 1]]\n",
            " \n",
            "[[1 0 0]\n",
            " [0 2 0]\n",
            " [0 0 3]]\n"
          ],
          "name": "stdout"
        }
      ]
    },
    {
      "cell_type": "markdown",
      "metadata": {
        "id": "bYnJY30I_GSi"
      },
      "source": [
        "**2. Indexing and Slicing**\r\n",
        "\r\n",
        "The indexing and slicing of tensor is the same as numpy, and slicing supports default parameters and ellipsis.\r\n",
        "\r\n",
        "Data type of tf.Variable supports indexing and slicing to modify values of certain elements.\r\n",
        "\r\n",
        "For referencing a continuous portion of a tensor, tf.slice is recommended.\r\n",
        "\r\n",
        "On the other hand, for the irregular slicing shape, tf.gather, tf.gather_nd, tf.boolean_mask are recommended.\r\n",
        "\r\n",
        "The method tf.boolean_mask is powerful, it functions as both tf.gather and tf.gather_nd, and supports boolean indexing.\r\n",
        "\r\n",
        "For the purpose of creating a new tensor through modifying certain elements in an existing tensor, tf.where and tf.scatter_nd can be used."
      ]
    },
    {
      "cell_type": "code",
      "metadata": {
        "colab": {
          "base_uri": "https://localhost:8080/"
        },
        "id": "SCa0xB7g_Q-S",
        "outputId": "492c4148-92c6-4e09-8a68-ac07be0f697c"
      },
      "source": [
        "tf.random.set_seed(3)\r\n",
        "\r\n",
        "t = tf.random.uniform([5,5], minval=0, maxval=10, dtype=tf.int32)\r\n",
        "tf.print(t)"
      ],
      "execution_count": 13,
      "outputs": [
        {
          "output_type": "stream",
          "text": [
            "[[4 7 4 2 9]\n",
            " [9 1 2 4 7]\n",
            " [7 2 7 4 0]\n",
            " [9 6 9 7 2]\n",
            " [3 7 0 0 3]]\n"
          ],
          "name": "stdout"
        }
      ]
    },
    {
      "cell_type": "code",
      "metadata": {
        "colab": {
          "base_uri": "https://localhost:8080/"
        },
        "id": "O0fFeTTbADdb",
        "outputId": "aa12e212-f66e-4358-feb5-a9ea18593df3"
      },
      "source": [
        "#row 0 \r\n",
        "tf.print(t[0])"
      ],
      "execution_count": 14,
      "outputs": [
        {
          "output_type": "stream",
          "text": [
            "[4 7 4 2 9]\n"
          ],
          "name": "stdout"
        }
      ]
    },
    {
      "cell_type": "code",
      "metadata": {
        "colab": {
          "base_uri": "https://localhost:8080/"
        },
        "id": "FVd8hvXgADkt",
        "outputId": "69b4f82a-1b29-41b8-f573-62dd5ffc0b3a"
      },
      "source": [
        "tf.print(t[-1])"
      ],
      "execution_count": 15,
      "outputs": [
        {
          "output_type": "stream",
          "text": [
            "[3 7 0 0 3]\n"
          ],
          "name": "stdout"
        }
      ]
    },
    {
      "cell_type": "code",
      "metadata": {
        "colab": {
          "base_uri": "https://localhost:8080/"
        },
        "id": "SIxaU_XsADno",
        "outputId": "3670d43c-adb8-4a95-c405-a74ed649b1bd"
      },
      "source": [
        "tf.print(t[1,3])"
      ],
      "execution_count": 16,
      "outputs": [
        {
          "output_type": "stream",
          "text": [
            "4\n"
          ],
          "name": "stdout"
        }
      ]
    },
    {
      "cell_type": "code",
      "metadata": {
        "colab": {
          "base_uri": "https://localhost:8080/"
        },
        "id": "08q4107QADqy",
        "outputId": "73ef16f3-51bf-4a05-f32c-d43b95f911be"
      },
      "source": [
        "#from row1 to row3\r\n",
        "tf.print(t[1:4, :])\r\n",
        "\r\n",
        "#tf.slice(input, begin_vector, size_vector)\r\n",
        "tf.print(tf.slice(t, [1,0], [3,5]))"
      ],
      "execution_count": 18,
      "outputs": [
        {
          "output_type": "stream",
          "text": [
            "[[9 1 2 4 7]\n",
            " [7 2 7 4 0]\n",
            " [9 6 9 7 2]]\n",
            "[[9 1 2 4 7]\n",
            " [7 2 7 4 0]\n",
            " [9 6 9 7 2]]\n"
          ],
          "name": "stdout"
        }
      ]
    },
    {
      "cell_type": "code",
      "metadata": {
        "colab": {
          "base_uri": "https://localhost:8080/"
        },
        "id": "34JEn9BxADur",
        "outputId": "301961ef-d19c-4d46-9736-c3faa8c5f5e4"
      },
      "source": [
        "#from row 1 to the last row, and from column 0 to the last but one with an increment of 2\r\n",
        "tf.print(t[1:4, :4:2])"
      ],
      "execution_count": 20,
      "outputs": [
        {
          "output_type": "stream",
          "text": [
            "[[9 2]\n",
            " [7 7]\n",
            " [9 9]]\n"
          ],
          "name": "stdout"
        }
      ]
    },
    {
      "cell_type": "code",
      "metadata": {
        "colab": {
          "base_uri": "https://localhost:8080/"
        },
        "id": "28Apgx6HADw7",
        "outputId": "b51e4807-fc99-4927-f541-cceddbe6a5bf"
      },
      "source": [
        "#variable supports modifying elemnts thru indexing and slicing\r\n",
        "x = tf.Variable([[1,2], [3,4]], dtype=tf.float32)\r\n",
        "x[1,:].assign(tf.constant([0.0,0.0]))\r\n",
        "tf.print(x)"
      ],
      "execution_count": 21,
      "outputs": [
        {
          "output_type": "stream",
          "text": [
            "[[1 2]\n",
            " [0 0]]\n"
          ],
          "name": "stdout"
        }
      ]
    },
    {
      "cell_type": "code",
      "metadata": {
        "colab": {
          "base_uri": "https://localhost:8080/"
        },
        "id": "UaT9Nof_ADz7",
        "outputId": "12a5ae71-cf40-4fe7-e7dc-b305fc0a5212"
      },
      "source": [
        "a = tf.random.uniform([3,3,3], 0, 10, dtype=tf.int32)\r\n",
        "tf.print(a)"
      ],
      "execution_count": 22,
      "outputs": [
        {
          "output_type": "stream",
          "text": [
            "[[[7 3 9]\n",
            "  [9 0 7]\n",
            "  [9 6 7]]\n",
            "\n",
            " [[1 3 3]\n",
            "  [0 8 1]\n",
            "  [3 1 0]]\n",
            "\n",
            " [[4 0 6]\n",
            "  [6 2 2]\n",
            "  [7 9 5]]]\n"
          ],
          "name": "stdout"
        }
      ]
    },
    {
      "cell_type": "code",
      "metadata": {
        "colab": {
          "base_uri": "https://localhost:8080/"
        },
        "id": "AModzu9nAEMz",
        "outputId": "d33bcc2c-2921-486e-f608-25e7f2da9409"
      },
      "source": [
        "# ellipsis represnts multiple colons\r\n",
        "tf.print(a[...,1])\r\n",
        "\r\n",
        "\r\n",
        "# this is equal to \r\n",
        "tf.print(a[:,:,1])"
      ],
      "execution_count": 23,
      "outputs": [
        {
          "output_type": "stream",
          "text": [
            "[[3 0 6]\n",
            " [3 8 1]\n",
            " [0 2 9]]\n",
            "[[3 0 6]\n",
            " [3 8 1]\n",
            " [0 2 9]]\n"
          ],
          "name": "stdout"
        }
      ]
    },
    {
      "cell_type": "markdown",
      "metadata": {
        "id": "2OYXEO0gAEPH"
      },
      "source": [
        "The examples above are regular slicing; for irregular slicing, tf.gather, tf.gather_nd, tf.boolean_mask can be used.\r\n",
        "\r\n",
        "Here is an example of student's grade records. There are 4 classes, 10 students in each class, and 7 courses for each student, which could be represented as a tensor with a dimension of 4×10×7."
      ]
    },
    {
      "cell_type": "code",
      "metadata": {
        "colab": {
          "base_uri": "https://localhost:8080/"
        },
        "id": "kufZxKEvAERp",
        "outputId": "ecf49893-0ce4-40f7-e936-08212ab0c715"
      },
      "source": [
        "scores = tf.random.uniform((4,10,7), minval=0, maxval=100, dtype=tf.int32)\r\n",
        "tf.print(scores)"
      ],
      "execution_count": 26,
      "outputs": [
        {
          "output_type": "stream",
          "text": [
            "[[[0 64 96 ... 65 28 30]\n",
            "  [16 99 74 ... 26 5 39]\n",
            "  [12 48 9 ... 34 76 10]\n",
            "  ...\n",
            "  [70 79 37 ... 72 38 31]\n",
            "  [65 55 44 ... 31 23 64]\n",
            "  [88 59 9 ... 64 66 92]]\n",
            "\n",
            " [[11 24 9 ... 16 35 59]\n",
            "  [46 46 87 ... 38 62 36]\n",
            "  [37 52 47 ... 2 51 48]\n",
            "  ...\n",
            "  [74 95 6 ... 49 9 54]\n",
            "  [67 47 74 ... 11 68 6]\n",
            "  [92 29 27 ... 59 99 71]]\n",
            "\n",
            " [[78 37 24 ... 54 9 79]\n",
            "  [77 99 5 ... 97 53 84]\n",
            "  [25 26 89 ... 74 22 75]\n",
            "  ...\n",
            "  [94 67 77 ... 97 56 38]\n",
            "  [61 44 50 ... 72 87 44]\n",
            "  [48 67 96 ... 60 23 82]]\n",
            "\n",
            " [[64 74 80 ... 49 58 12]\n",
            "  [19 51 31 ... 57 39 67]\n",
            "  [16 31 46 ... 94 50 13]\n",
            "  ...\n",
            "  [20 81 89 ... 4 85 66]\n",
            "  [90 19 14 ... 99 27 96]\n",
            "  [35 63 52 ... 34 59 64]]]\n"
          ],
          "name": "stdout"
        }
      ]
    },
    {
      "cell_type": "code",
      "metadata": {
        "colab": {
          "base_uri": "https://localhost:8080/"
        },
        "id": "jkHpBXFdAEUf",
        "outputId": "810b3245-f493-4259-9498-c3ad35ee5acc"
      },
      "source": [
        "# extract all the grades of the 0th, 5th, 9th students in each class.\r\n",
        "p = tf.gather(scores, [0, 5, 9], axis=1)\r\n",
        "tf.print(p)"
      ],
      "execution_count": 27,
      "outputs": [
        {
          "output_type": "stream",
          "text": [
            "[[[0 64 96 ... 65 28 30]\n",
            "  [43 38 66 ... 7 7 65]\n",
            "  [88 59 9 ... 64 66 92]]\n",
            "\n",
            " [[11 24 9 ... 16 35 59]\n",
            "  [94 3 55 ... 4 93 52]\n",
            "  [92 29 27 ... 59 99 71]]\n",
            "\n",
            " [[78 37 24 ... 54 9 79]\n",
            "  [95 17 83 ... 99 84 96]\n",
            "  [48 67 96 ... 60 23 82]]\n",
            "\n",
            " [[64 74 80 ... 49 58 12]\n",
            "  [82 71 32 ... 49 39 28]\n",
            "  [35 63 52 ... 34 59 64]]]\n"
          ],
          "name": "stdout"
        }
      ]
    },
    {
      "cell_type": "code",
      "metadata": {
        "colab": {
          "base_uri": "https://localhost:8080/"
        },
        "id": "DKGsw8npAEXm",
        "outputId": "b51266bf-78ff-4b09-efbb-6e8824dd765b"
      },
      "source": [
        "# extract the grades of the 1st, 3rd and 6th courses of the 0th, 5th, 9th students in each class\r\n",
        "q = tf.gather(tf.gather(scores, [0,5,9], axis=1), [1,3,6], axis=2)\r\n",
        "tf.print(q)"
      ],
      "execution_count": 28,
      "outputs": [
        {
          "output_type": "stream",
          "text": [
            "[[[64 49 30]\n",
            "  [38 4 65]\n",
            "  [59 25 92]]\n",
            "\n",
            " [[24 58 59]\n",
            "  [3 30 52]\n",
            "  [29 76 71]]\n",
            "\n",
            " [[37 59 79]\n",
            "  [17 0 96]\n",
            "  [67 84 82]]\n",
            "\n",
            " [[74 83 12]\n",
            "  [71 36 28]\n",
            "  [63 84 64]]]\n"
          ],
          "name": "stdout"
        }
      ]
    },
    {
      "cell_type": "code",
      "metadata": {
        "colab": {
          "base_uri": "https://localhost:8080/"
        },
        "id": "Q8ZoLItCEJ-r",
        "outputId": "a3e2b2eb-148e-4203-8381-1addce971f27"
      },
      "source": [
        "# Extract all the grades of the 0th student in the 0th class, the 4th student in the 2nd class, and the 6th student in the 3rd class.\r\n",
        "# Then length of the parameter indices equals to the number of samples, and the each element of indices is the coordinate of each sample.\r\n",
        "s = tf.gather_nd(scores, indices=[(0,0), (2,4), (3,6)])\r\n",
        "s"
      ],
      "execution_count": 29,
      "outputs": [
        {
          "output_type": "execute_result",
          "data": {
            "text/plain": [
              "<tf.Tensor: shape=(3, 7), dtype=int32, numpy=\n",
              "array([[ 0, 64, 96, 49, 65, 28, 30],\n",
              "       [58, 58, 96, 59, 51, 33, 64],\n",
              "       [ 8, 43, 24, 71, 87, 79, 10]], dtype=int32)>"
            ]
          },
          "metadata": {
            "tags": []
          },
          "execution_count": 29
        }
      ]
    },
    {
      "cell_type": "code",
      "metadata": {
        "colab": {
          "base_uri": "https://localhost:8080/"
        },
        "id": "um1-mtbDEgjD",
        "outputId": "0463f6a3-52dd-4cb0-d27d-81c1df3baed9"
      },
      "source": [
        "#extract all the grades of the 0th, 5th, and 9th students in each class\r\n",
        "p = tf.boolean_mask(scores, [True, False, False, False, False, True, False, False, False, True], axis=1)\r\n",
        "tf.print(p)"
      ],
      "execution_count": 30,
      "outputs": [
        {
          "output_type": "stream",
          "text": [
            "[[[0 64 96 ... 65 28 30]\n",
            "  [43 38 66 ... 7 7 65]\n",
            "  [88 59 9 ... 64 66 92]]\n",
            "\n",
            " [[11 24 9 ... 16 35 59]\n",
            "  [94 3 55 ... 4 93 52]\n",
            "  [92 29 27 ... 59 99 71]]\n",
            "\n",
            " [[78 37 24 ... 54 9 79]\n",
            "  [95 17 83 ... 99 84 96]\n",
            "  [48 67 96 ... 60 23 82]]\n",
            "\n",
            " [[64 74 80 ... 49 58 12]\n",
            "  [82 71 32 ... 49 39 28]\n",
            "  [35 63 52 ... 34 59 64]]]\n"
          ],
          "name": "stdout"
        }
      ]
    },
    {
      "cell_type": "code",
      "metadata": {
        "colab": {
          "base_uri": "https://localhost:8080/"
        },
        "id": "Q8rJgASaEzZC",
        "outputId": "4759f00b-d9ee-46fa-fe69-313d78511aa4"
      },
      "source": [
        "# Boolean indexing using tf.boolean_mask\r\n",
        "\r\n",
        "# Find all elements that are less than 0 in the matrix\r\n",
        "c = tf.constant([[-1,1,-1],[2,2,-2],[3,-3,3]],dtype=tf.float32)\r\n",
        "tf.print(c,\"\\n\")\r\n",
        "\r\n",
        "tf.print(tf.boolean_mask(c,c<0),\"\\n\") \r\n",
        "tf.print(c[c<0]) # This is the syntactic sugar of boolean_mask for boolean indexing."
      ],
      "execution_count": 31,
      "outputs": [
        {
          "output_type": "stream",
          "text": [
            "[[-1 1 -1]\n",
            " [2 2 -2]\n",
            " [3 -3 3]] \n",
            "\n",
            "[-1 -1 -2 -3] \n",
            "\n",
            "[-1 -1 -2 -3]\n"
          ],
          "name": "stdout"
        }
      ]
    },
    {
      "cell_type": "markdown",
      "metadata": {
        "id": "FbONTeJnE4d5"
      },
      "source": [
        "The methods shown above are able to extract part of the elements in the tensor, but are not able to create new tensors through modification of these elements.\r\n",
        "\r\n",
        "The method tf.where and tf.scatter_nd should be used for this purpose.\r\n",
        "\r\n",
        "tf.where is the tensor version of if; on the other hand, this method is able to find the coordinate of all the elements that statisfy certain conditions.\r\n",
        "\r\n",
        "tf.scatter_nd works in an opposite way to the method tf.gather_nd. The latter collects the elements according to the given coordinate, while the former inserts values on the given positions in an all-zero tensor with a known shape.\r\n",
        "\r\n"
      ]
    },
    {
      "cell_type": "code",
      "metadata": {
        "colab": {
          "base_uri": "https://localhost:8080/"
        },
        "id": "Pi6FeuCEFvOS",
        "outputId": "90ce6385-5ac7-4ffb-a5c8-d48b4dcc636d"
      },
      "source": [
        "c = tf.constant([[-1,1,-1], [2,2,-2], [3,-3,3]], dtype=tf.float32)\r\n",
        "d = tf.where(c<0, tf.fill(c.shape, np.nan), c)\r\n",
        "d"
      ],
      "execution_count": 32,
      "outputs": [
        {
          "output_type": "execute_result",
          "data": {
            "text/plain": [
              "<tf.Tensor: shape=(3, 3), dtype=float32, numpy=\n",
              "array([[nan,  1., nan],\n",
              "       [ 2.,  2., nan],\n",
              "       [ 3., nan,  3.]], dtype=float32)>"
            ]
          },
          "metadata": {
            "tags": []
          },
          "execution_count": 32
        }
      ]
    },
    {
      "cell_type": "code",
      "metadata": {
        "colab": {
          "base_uri": "https://localhost:8080/"
        },
        "id": "A7sDX-xgF6nk",
        "outputId": "682bcc3a-5bea-4daf-a1c1-68a2b7d7e68e"
      },
      "source": [
        "indices = tf.where(c<0)\r\n",
        "indices"
      ],
      "execution_count": 33,
      "outputs": [
        {
          "output_type": "execute_result",
          "data": {
            "text/plain": [
              "<tf.Tensor: shape=(4, 2), dtype=int64, numpy=\n",
              "array([[0, 0],\n",
              "       [0, 2],\n",
              "       [1, 2],\n",
              "       [2, 1]])>"
            ]
          },
          "metadata": {
            "tags": []
          },
          "execution_count": 33
        }
      ]
    },
    {
      "cell_type": "code",
      "metadata": {
        "colab": {
          "base_uri": "https://localhost:8080/"
        },
        "id": "-23KcGiMGAeq",
        "outputId": "7936491b-94a9-4d2d-993c-1007f90eacb3"
      },
      "source": [
        "# The method scatter_nd functions inversly to gather_nd\r\n",
        "# This method can be used to insert values on the given positions in an all-zero tensor with a known shape.\r\n",
        "indices = tf.where(c<0)\r\n",
        "tf.scatter_nd(indices,tf.gather_nd(c,indices),c.shape)"
      ],
      "execution_count": 34,
      "outputs": [
        {
          "output_type": "execute_result",
          "data": {
            "text/plain": [
              "<tf.Tensor: shape=(3, 3), dtype=float32, numpy=\n",
              "array([[-1.,  0., -1.],\n",
              "       [ 0.,  0., -2.],\n",
              "       [ 0., -3.,  0.]], dtype=float32)>"
            ]
          },
          "metadata": {
            "tags": []
          },
          "execution_count": 34
        }
      ]
    },
    {
      "cell_type": "markdown",
      "metadata": {
        "id": "8bFqbHb8GHX7"
      },
      "source": [
        "**3. Dimension Transform**\r\n",
        "\r\n",
        "The functions that are related to dimension transform include tf.reshape, tf.squeeze, tf.expand_dims, tf.transpose.\r\n",
        "\r\n",
        "tf.reshape is used to alter the shape of the tensor.\r\n",
        "\r\n",
        "tf.squeeze is used to reduce the number of dimensions.\r\n",
        "\r\n",
        "tf.expand_dims is used to increase the number of dimensions.\r\n",
        "\r\n",
        "tf.transpose is used to exchange the order of the dimensions.\r\n",
        "\r\n",
        "tf.reshape changes the shape of the tensor, but will not change the order of elements stored in the memory, thus this operation is extremely fast and reversible."
      ]
    },
    {
      "cell_type": "code",
      "metadata": {
        "colab": {
          "base_uri": "https://localhost:8080/"
        },
        "id": "VlKHJWeMGb6L",
        "outputId": "e7241df7-771b-4ac6-b707-da8a3d73863c"
      },
      "source": [
        "a = tf.random.uniform(shape=[1,3,3,2], minval=0, maxval=255, dtype=tf.int32)\r\n",
        "\r\n",
        "tf.print(a)\r\n",
        "tf.print(a.shape)"
      ],
      "execution_count": 36,
      "outputs": [
        {
          "output_type": "stream",
          "text": [
            "[[[[225 223]\n",
            "   [22 182]\n",
            "   [163 8]]\n",
            "\n",
            "  [[37 235]\n",
            "   [36 107]\n",
            "   [63 204]]\n",
            "\n",
            "  [[76 177]\n",
            "   [90 167]\n",
            "   [69 96]]]]\n",
            "TensorShape([1, 3, 3, 2])\n"
          ],
          "name": "stdout"
        }
      ]
    },
    {
      "cell_type": "code",
      "metadata": {
        "colab": {
          "base_uri": "https://localhost:8080/"
        },
        "id": "urYcyTXVIeRE",
        "outputId": "a2e6ce3f-d2b7-424c-d408-c8925f026b5a"
      },
      "source": [
        "b =tf.reshape(a, [3,6])\r\n",
        "tf.print(b.shape)\r\n",
        "tf.print(b)"
      ],
      "execution_count": 37,
      "outputs": [
        {
          "output_type": "stream",
          "text": [
            "TensorShape([3, 6])\n",
            "[[225 223 22 182 163 8]\n",
            " [37 235 36 107 63 204]\n",
            " [76 177 90 167 69 96]]\n"
          ],
          "name": "stdout"
        }
      ]
    },
    {
      "cell_type": "code",
      "metadata": {
        "colab": {
          "base_uri": "https://localhost:8080/"
        },
        "id": "K1uhRm_BIvOa",
        "outputId": "0ba91e2d-9fd1-42c3-da0c-b9ecd0273583"
      },
      "source": [
        "#reshape back to (1,3,3,2)\r\n",
        "c = tf.reshape(a, (1,3,3,2))\r\n",
        "tf.print(c)"
      ],
      "execution_count": 38,
      "outputs": [
        {
          "output_type": "stream",
          "text": [
            "[[[[225 223]\n",
            "   [22 182]\n",
            "   [163 8]]\n",
            "\n",
            "  [[37 235]\n",
            "   [36 107]\n",
            "   [63 204]]\n",
            "\n",
            "  [[76 177]\n",
            "   [90 167]\n",
            "   [69 96]]]]\n"
          ],
          "name": "stdout"
        }
      ]
    },
    {
      "cell_type": "markdown",
      "metadata": {
        "id": "ga3JxtJyI-Ay"
      },
      "source": [
        "When there is only one element on a certain dimension, tf.squeeze eliminates this dimension.\r\n",
        "\r\n",
        "It won't change the order of the stored elements in the memory, which is similar to tf.reshape.\r\n",
        "\r\n",
        "The elements in a tensor is stored linearly, usually the adjacent elements in the same dimension use adjacent physical addresses."
      ]
    },
    {
      "cell_type": "code",
      "metadata": {
        "colab": {
          "base_uri": "https://localhost:8080/"
        },
        "id": "zcNq394gJC7h",
        "outputId": "833815ac-3605-4ea3-cbb1-e4dde201dc6b"
      },
      "source": [
        "s = tf.squeeze(a)\r\n",
        "tf.print(s.shape)\r\n",
        "tf.print(s)"
      ],
      "execution_count": 39,
      "outputs": [
        {
          "output_type": "stream",
          "text": [
            "TensorShape([3, 3, 2])\n",
            "[[[225 223]\n",
            "  [22 182]\n",
            "  [163 8]]\n",
            "\n",
            " [[37 235]\n",
            "  [36 107]\n",
            "  [63 204]]\n",
            "\n",
            " [[76 177]\n",
            "  [90 167]\n",
            "  [69 96]]]\n"
          ],
          "name": "stdout"
        }
      ]
    },
    {
      "cell_type": "code",
      "metadata": {
        "colab": {
          "base_uri": "https://localhost:8080/"
        },
        "id": "re-IT2rKJILy",
        "outputId": "f4a25040-567c-4699-9138-4a1cd8f4d27c"
      },
      "source": [
        "d = tf.expand_dims(s, axis=0)\r\n",
        "d"
      ],
      "execution_count": 41,
      "outputs": [
        {
          "output_type": "execute_result",
          "data": {
            "text/plain": [
              "<tf.Tensor: shape=(1, 3, 3, 2), dtype=int32, numpy=\n",
              "array([[[[225, 223],\n",
              "         [ 22, 182],\n",
              "         [163,   8]],\n",
              "\n",
              "        [[ 37, 235],\n",
              "         [ 36, 107],\n",
              "         [ 63, 204]],\n",
              "\n",
              "        [[ 76, 177],\n",
              "         [ 90, 167],\n",
              "         [ 69,  96]]]], dtype=int32)>"
            ]
          },
          "metadata": {
            "tags": []
          },
          "execution_count": 41
        }
      ]
    },
    {
      "cell_type": "markdown",
      "metadata": {
        "id": "F9CO28A4JRLR"
      },
      "source": [
        "tf.transpose swaps the dimensions in the tensor; unlike tf.shape, it will change the order of the elements in the memory.\r\n",
        "\r\n",
        "tf.transpose is usually used for converting image format of storage."
      ]
    },
    {
      "cell_type": "code",
      "metadata": {
        "colab": {
          "base_uri": "https://localhost:8080/"
        },
        "id": "c0-1AV6dJXvp",
        "outputId": "545cb0e4-af7c-4c96-b24b-f0c67009b0cc"
      },
      "source": [
        "# Batch,Height,Width,Channel\r\n",
        "a = tf.random.uniform(shape=[100,600,600,4],minval=0,maxval=255,dtype=tf.int32)\r\n",
        "tf.print(a.shape)\r\n",
        "\r\n",
        "# Transform to the order as Channel,Height,Width,Batch\r\n",
        "s= tf.transpose(a,perm=[3,1,2,0])\r\n",
        "tf.print(s.shape)"
      ],
      "execution_count": 42,
      "outputs": [
        {
          "output_type": "stream",
          "text": [
            "TensorShape([100, 600, 600, 4])\n",
            "TensorShape([4, 600, 600, 100])\n"
          ],
          "name": "stdout"
        }
      ]
    },
    {
      "cell_type": "markdown",
      "metadata": {
        "id": "vE16RMjsJZIb"
      },
      "source": [
        "**4. Combining and Splitting**\r\n",
        "\r\n",
        "We can use tf.concat and tf.stack methods to combine multiple tensors, and use tf.split to split a tensor into multiple ones, which are similar as those in numpy.\r\n",
        "\r\n",
        "tf.concat is slightly different to tf.stack: tf.concat is concatination and does not increase the number of dimensions, while tf.stack is stacking and increases the number of dimensions."
      ]
    },
    {
      "cell_type": "code",
      "metadata": {
        "colab": {
          "base_uri": "https://localhost:8080/"
        },
        "id": "r-Ev1tSMJcJJ",
        "outputId": "09bd15f6-98ed-42f1-9162-fd0832806df5"
      },
      "source": [
        "a = tf.constant([[1.0,2.0],[3.0,4.0]])\r\n",
        "b = tf.constant([[5.0,6.0],[7.0,8.0]])\r\n",
        "c = tf.constant([[9.0,10.0],[11.0,12.0]])\r\n",
        "\r\n",
        "tf.concat([a,b,c],axis = 0)"
      ],
      "execution_count": 43,
      "outputs": [
        {
          "output_type": "execute_result",
          "data": {
            "text/plain": [
              "<tf.Tensor: shape=(6, 2), dtype=float32, numpy=\n",
              "array([[ 1.,  2.],\n",
              "       [ 3.,  4.],\n",
              "       [ 5.,  6.],\n",
              "       [ 7.,  8.],\n",
              "       [ 9., 10.],\n",
              "       [11., 12.]], dtype=float32)>"
            ]
          },
          "metadata": {
            "tags": []
          },
          "execution_count": 43
        }
      ]
    },
    {
      "cell_type": "code",
      "metadata": {
        "colab": {
          "base_uri": "https://localhost:8080/"
        },
        "id": "yiYKYaB6JhF6",
        "outputId": "f8990910-7efe-4ce7-a82d-d10f1717ef3e"
      },
      "source": [
        "tf.concat([b,c], axis=1)"
      ],
      "execution_count": 44,
      "outputs": [
        {
          "output_type": "execute_result",
          "data": {
            "text/plain": [
              "<tf.Tensor: shape=(2, 4), dtype=float32, numpy=\n",
              "array([[ 5.,  6.,  9., 10.],\n",
              "       [ 7.,  8., 11., 12.]], dtype=float32)>"
            ]
          },
          "metadata": {
            "tags": []
          },
          "execution_count": 44
        }
      ]
    },
    {
      "cell_type": "code",
      "metadata": {
        "colab": {
          "base_uri": "https://localhost:8080/"
        },
        "id": "bzlmBLbNJlvS",
        "outputId": "325609ed-c9ef-47ac-96fb-85e6bc26a6fe"
      },
      "source": [
        "tf.stack([a,b,c])"
      ],
      "execution_count": 45,
      "outputs": [
        {
          "output_type": "execute_result",
          "data": {
            "text/plain": [
              "<tf.Tensor: shape=(3, 2, 2), dtype=float32, numpy=\n",
              "array([[[ 1.,  2.],\n",
              "        [ 3.,  4.]],\n",
              "\n",
              "       [[ 5.,  6.],\n",
              "        [ 7.,  8.]],\n",
              "\n",
              "       [[ 9., 10.],\n",
              "        [11., 12.]]], dtype=float32)>"
            ]
          },
          "metadata": {
            "tags": []
          },
          "execution_count": 45
        }
      ]
    },
    {
      "cell_type": "code",
      "metadata": {
        "id": "SIf7SLmLJqg6"
      },
      "source": [
        "a = tf.constant([[1.0,2.0],[3.0,4.0]])\r\n",
        "b = tf.constant([[5.0,6.0],[7.0,8.0]])\r\n",
        "c = tf.constant([[9.0,10.0],[11.0,12.0]])\r\n",
        "\r\n",
        "c = tf.concat([a,b,c],axis = 0)"
      ],
      "execution_count": 46,
      "outputs": []
    },
    {
      "cell_type": "markdown",
      "metadata": {
        "id": "Sblceb7XJ-Kq"
      },
      "source": [
        "tf.split is the inverse of tf.concat. It allows even splitting with given number of portions, or uneven splitting with given size of each portion."
      ]
    },
    {
      "cell_type": "code",
      "metadata": {
        "colab": {
          "base_uri": "https://localhost:8080/"
        },
        "id": "j5RKXnarKDgi",
        "outputId": "70e41575-7f11-4965-dcc2-3a59bbf38b52"
      },
      "source": [
        "tf.split(c, 3, axis=0)"
      ],
      "execution_count": 48,
      "outputs": [
        {
          "output_type": "execute_result",
          "data": {
            "text/plain": [
              "[<tf.Tensor: shape=(2, 2), dtype=float32, numpy=\n",
              " array([[1., 2.],\n",
              "        [3., 4.]], dtype=float32)>,\n",
              " <tf.Tensor: shape=(2, 2), dtype=float32, numpy=\n",
              " array([[5., 6.],\n",
              "        [7., 8.]], dtype=float32)>,\n",
              " <tf.Tensor: shape=(2, 2), dtype=float32, numpy=\n",
              " array([[ 9., 10.],\n",
              "        [11., 12.]], dtype=float32)>]"
            ]
          },
          "metadata": {
            "tags": []
          },
          "execution_count": 48
        }
      ]
    },
    {
      "cell_type": "code",
      "metadata": {
        "colab": {
          "base_uri": "https://localhost:8080/"
        },
        "id": "XZmwqWsEKhGi",
        "outputId": "1fac199f-f608-435c-e5ae-c716765ec38b"
      },
      "source": [
        "tf.split(c, [2,2,2], axis=0)"
      ],
      "execution_count": 50,
      "outputs": [
        {
          "output_type": "execute_result",
          "data": {
            "text/plain": [
              "[<tf.Tensor: shape=(2, 2), dtype=float32, numpy=\n",
              " array([[1., 2.],\n",
              "        [3., 4.]], dtype=float32)>,\n",
              " <tf.Tensor: shape=(2, 2), dtype=float32, numpy=\n",
              " array([[5., 6.],\n",
              "        [7., 8.]], dtype=float32)>,\n",
              " <tf.Tensor: shape=(2, 2), dtype=float32, numpy=\n",
              " array([[ 9., 10.],\n",
              "        [11., 12.]], dtype=float32)>]"
            ]
          },
          "metadata": {
            "tags": []
          },
          "execution_count": 50
        }
      ]
    },
    {
      "cell_type": "code",
      "metadata": {
        "id": "09zQHELzKjUC"
      },
      "source": [
        ""
      ],
      "execution_count": null,
      "outputs": []
    }
  ]
}